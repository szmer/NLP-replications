{
 "cells": [
  {
   "cell_type": "code",
   "execution_count": null,
   "metadata": {},
   "outputs": [],
   "source": [
    "# Plumbing\n",
    "1. Download the phrase similarity dataset from http://homepages.inf.ed.ac.uk/mlap/resources/index.html, save as `phrase_similarities.txt`\n",
    "2. Download the EasyCCG parser from http://homepages.inf.ed.ac.uk/s1049478/easyccg.html, unpack the package (you should get a catalog like `easyccg-0.2`). From the same page, download the regular pretrained model (`model.tar.gz`). Unpack the model to the parser's catalog."
   ]
  },
  {
   "cell_type": "markdown",
   "metadata": {},
   "source": [
    "# Getting the British National Corpus & the word list"
   ]
  },
  {
   "cell_type": "markdown",
   "metadata": {},
   "source": [
    "We will parse BNC XML files with lxml. NLTK technically has a dedicated parser for BNC, which is extremely slow in the lazy mode, and in the non-lazy mode it is very slow and also consumes >8GB of memory."
   ]
  },
  {
   "cell_type": "code",
   "execution_count": 1,
   "metadata": {},
   "outputs": [],
   "source": [
    "bnc_path = 'BNC/Texts/'\n",
    "from os.path import exists\n",
    "\n",
    "def bnc_files_iter():\n",
    "    top_level = ['A', 'B', 'C', 'D', 'E', 'F', 'H', 'I', 'J', 'K']\n",
    "    symbols = top_level + ['L', 'M', 'N', 'O', 'P', 'R', 'S', 'T', 'U', 'W', 'V', 'X', 'Y', 'Z',\n",
    "                           '0', '1', '2', '3', '4', '5', '6', '7', '8', '9']\n",
    "    for top in top_level:\n",
    "        top_path = bnc_path + '/' + top\n",
    "        if not exists(top_path):\n",
    "            continue\n",
    "        for symbol2 in symbols:\n",
    "            path2 = top_path + '/' + top + symbol2\n",
    "            if not exists(path2):\n",
    "                continue\n",
    "            for symbol3 in symbols:\n",
    "                current_path = path2 + '/' + top + symbol2 + symbol3 + '.xml'\n",
    "                if not exists(current_path):\n",
    "                    continue\n",
    "                yield open(current_path)"
   ]
  },
  {
   "cell_type": "code",
   "execution_count": 8,
   "metadata": {},
   "outputs": [
    {
     "name": "stdout",
     "output_type": "stream",
     "text": [
      "['Bindman ', 'Fazio ', 'Lancake ', 'McWILLIAM ', 'Cacioppo', 'middest ', '72.9 ', '913,000 ', 'concordance ', '96,000']\n"
     ]
    }
   ],
   "source": [
    "unique_words = set()\n",
    "from lxml import etree\n",
    "\n",
    "for bnc_file in bnc_files_iter():\n",
    "    file_tree = etree.parse(bnc_file)\n",
    "    for element in file_tree.iter():\n",
    "        if (element.tag == 'w' or element.tag == 'c') and element.text:\n",
    "            unique_words.add(element.text)\n",
    "    bnc_file.close()\n",
    "    \n",
    "unique_words = list(unique_words)\n",
    "print(unique_words[:10])"
   ]
  },
  {
   "cell_type": "code",
   "execution_count": 3,
   "metadata": {},
   "outputs": [
    {
     "name": "stdout",
     "output_type": "stream",
     "text": [
      "948223\n"
     ]
    }
   ],
   "source": [
    "unique_count = len(unique_words)\n",
    "print(unique_count)"
   ]
  },
  {
   "cell_type": "code",
   "execution_count": 7,
   "metadata": {},
   "outputs": [
    {
     "name": "stdout",
     "output_type": "stream",
     "text": [
      "743062\n"
     ]
    }
   ],
   "source": [
    "# try stemming just for the embedding?\n",
    "from nltk.stem.snowball import EnglishStemmer\n",
    "stemmer = EnglishStemmer()\n",
    "stemmed_words = [stemmer.stem(word) for word in unique_words]\n",
    "stemmed_words = list(set(stemmed_words))\n",
    "print(len(stemmed_words))"
   ]
  },
  {
   "cell_type": "markdown",
   "metadata": {},
   "source": [
    "# Getting CCG parse trees for BNC"
   ]
  },
  {
   "cell_type": "code",
   "execution_count": 10,
   "metadata": {},
   "outputs": [
    {
     "name": "stdout",
     "output_type": "stream",
     "text": [
      "b'ID=1\\n(<T S[dcl] 1 2> (<T NP[nb] 0 2> (<L NP[nb]/N POS POS The NP[nb]/N>) (<L N POS POS cat N>) ) (<T S[dcl]\\\\NP 0 2> (<L (S[dcl]\\\\NP)/NP POS POS chases (S[dcl]\\\\NP)/NP>) (<T NP[nb] 0 2> (<T NP[nb] 0 2> (<L NP[nb]/N POS POS a NP[nb]/N>) (<L N POS POS ball N>) ) (<T NP\\\\NP 0 2> (<L (NP\\\\NP)/NP POS POS of (NP\\\\NP)/NP>) (<T NP 0 1> (<L N POS POS yarn. N>) ) ) ) ) ) \\n' \n",
      " b'Loading model...\\nModel loaded, ready to parse.\\n'\n"
     ]
    }
   ],
   "source": [
    "# we will run the underlying parser as a subprocess, and intercept its outputs from within Python\n",
    "from subprocess import Popen, PIPE, STDOUT\n",
    "p = Popen(['java', '-jar', 'easyccg-0.2/easyccg.jar', '--model', 'easyccg-0.2/model'], stdout=PIPE, stdin=PIPE, stderr=PIPE)\n",
    "# .encode() gives bytes instead of str, as .communicate() requires. We get a pair (stdout, stderr):\n",
    "(parse, err) = p.communicate(input='The cat chases a ball of yarn.\\n'.encode())\n",
    "print(parse, '\\n', err)\n",
    "p.terminate()"
   ]
  },
  {
   "cell_type": "markdown",
   "metadata": {},
   "source": [
    "Let's see how NLTK can handle parse trees."
   ]
  },
  {
   "cell_type": "code",
   "execution_count": 24,
   "metadata": {
    "scrolled": true
   },
   "outputs": [
    {
     "name": "stdout",
     "output_type": "stream",
     "text": [
      "(<T\n",
      "  S[dcl]\n",
      "  1\n",
      "  2>\n",
      "  (<T\n",
      "    NP[nb]\n",
      "    0\n",
      "    2>\n",
      "    (<L NP[nb]/N POS POS The NP[nb]/N>)\n",
      "    (<L N POS POS cat N>))\n",
      "  (<T\n",
      "    S[dcl]\\\\NP\n",
      "    0\n",
      "    2>\n",
      "    (<L (S[dcl]\\\\NP ) /NP POS POS chases (S[dcl]\\\\NP ) /NP>)\n",
      "    (<T\n",
      "      NP[nb]\n",
      "      0\n",
      "      2>\n",
      "      (<T\n",
      "        NP[nb]\n",
      "        0\n",
      "        2>\n",
      "        (<L NP[nb]/N POS POS a NP[nb]/N>)\n",
      "        (<L N POS POS ball N>))\n",
      "      (<T\n",
      "        NP\\\\NP\n",
      "        0\n",
      "        2>\n",
      "        (<L (NP\\\\NP ) /NP POS POS of (NP\\\\NP ) /NP>)\n",
      "        (<T NP 0 1> (<L N POS POS yarn. N>))))))\n"
     ]
    }
   ],
   "source": [
    "# some string cleanup\n",
    "def clean_parse_output(parse_output):\n",
    "    # (remember we have to deal with the parse returned as bytes, not a Unicode string)\n",
    "    return str(parse_output).split('\\\\n')[1] # the second line contains the parse itself\n",
    "\n",
    "from nltk.tree import Tree\n",
    "tree = Tree.fromstring(clean_parse_output(parse))\n",
    "print(tree)"
   ]
  },
  {
   "cell_type": "markdown",
   "metadata": {},
   "source": [
    "It's not very pretty, because NLTK decides to print a newline instead of space inside the less/more than signs. In each (parenthesized expression), the first item (head) is the category of node, and two next items are its child nodes."
   ]
  },
  {
   "cell_type": "code",
   "execution_count": 18,
   "metadata": {},
   "outputs": [
    {
     "name": "stdout",
     "output_type": "stream",
     "text": [
      " ‘ Arrest  warrant  out  for  Clowes ’  partner  years  before  collapse' .\n",
      "b\"ID=1\\n(<T S[dcl] 1 2> (<T NP 1 2> (<L LRB POS POS \\xe2\\x80\\x98 LRB>) (<T NP 0 1> (<L N POS POS Arrest N>) ) ) (<T S[dcl]\\\\NP 0 2> (<T S[dcl]\\\\NP 0 2> (<T (S[dcl]\\\\NP)/PP 0 2> (<L (S[dcl]\\\\NP)/PP POS POS warrant (S[dcl]\\\\NP)/PP>) (<L (S\\\\NP)\\\\(S\\\\NP) POS POS out (S\\\\NP)\\\\(S\\\\NP)>) ) (<T (S[X]\\\\NP)\\\\((S[X]\\\\NP)/PP) 0 1> (<T PP 0 2> (<L PP/NP POS POS for PP/NP>) (<T NP 0 1> (<T N 1 2> (<L N/N POS POS Clowes N/N>) (<T N 1 2> (<L N/N POS POS \\xe2\\x80\\x99 N/N>) (<T N 1 2> (<L N/N POS POS partner N/N>) (<L N POS POS years N>) ) ) ) ) ) ) ) (<T (S\\\\NP)\\\\(S\\\\NP) 0 2> (<L ((S\\\\NP)\\\\(S\\\\NP))/NP POS POS before ((S\\\\NP)\\\\(S\\\\NP))/NP>) (<T NP 0 2> (<T NP 0 1> (<L N POS POS collapse' N>) ) (<L . POS POS . .>) ) ) ) ) \\n\"\n",
      " By  Daniel  John\n",
      "b'ID=1\\n(<T NP 1 2> (<L NP/NP POS POS By NP/NP>) (<T NP 0 1> (<T N 1 2> (<L N/N POS POS Daniel N/N>) (<L N POS POS John N>) ) ) ) \\n'\n",
      " AWARRANT  for  the  arrest  of  the  former  partner  of  Mr  Peter  Clowes  was  issued  seven  years  before  his  Barlow  Clowes  investment  empire  collapsed ,  according  to  evidence  submitted  to  the  Parliamentary  Ombudsman .\n",
      "b'ID=1\\n(<T S[dcl] 1 2> (<T NP 0 2> (<T NP 0 1> (<L N POS POS AWARRANT N>) ) (<T NP\\\\NP 0 2> (<L (NP\\\\NP)/NP POS POS for (NP\\\\NP)/NP>) (<T NP[nb] 0 2> (<T NP[nb] 0 2> (<L NP[nb]/N POS POS the NP[nb]/N>) (<L N POS POS arrest N>) ) (<T NP\\\\NP 0 2> (<L (NP\\\\NP)/NP POS POS of (NP\\\\NP)/NP>) (<T NP[nb] 0 2> (<T NP[nb] 0 2> (<L NP[nb]/N POS POS the NP[nb]/N>) (<T N 1 2> (<L N/N POS POS former N/N>) (<L N POS POS partner N>) ) ) (<T NP\\\\NP 0 2> (<L (NP\\\\NP)/NP POS POS of (NP\\\\NP)/NP>) (<T NP 0 1> (<T N 1 2> (<L N/N POS POS Mr N/N>) (<T N 1 2> (<L N/N POS POS Peter N/N>) (<L N POS POS Clowes N>) ) ) ) ) ) ) ) ) ) (<T S[dcl]\\\\NP 0 2> (<L (S[dcl]\\\\NP)/(S[pss]\\\\NP) POS POS was (S[dcl]\\\\NP)/(S[pss]\\\\NP)>) (<T S[pss]\\\\NP 0 2> (<L S[pss]\\\\NP POS POS issued S[pss]\\\\NP>) (<T (S\\\\NP)\\\\(S\\\\NP) 1 2> (<T NP 0 1> (<T N 1 2> (<L N/N POS POS seven N/N>) (<L N POS POS years N>) ) ) (<T ((S\\\\NP)\\\\(S\\\\NP))\\\\NP 0 2> (<L (((S\\\\NP)\\\\(S\\\\NP))\\\\NP)/S[dcl] POS POS before (((S\\\\NP)\\\\(S\\\\NP))\\\\NP)/S[dcl]>) (<T S[dcl] 1 2> (<T NP[nb] 0 2> (<L NP[nb]/N POS POS his NP[nb]/N>) (<T N 1 2> (<L N/N POS POS Barlow N/N>) (<T N 1 2> (<L N/N POS POS Clowes N/N>) (<T N 1 2> (<L N/N POS POS investment N/N>) (<L N POS POS empire N>) ) ) ) ) (<T S[dcl]\\\\NP 0 2> (<T S[dcl]\\\\NP 0 2> (<L S[dcl]\\\\NP POS POS collapsed S[dcl]\\\\NP>) (<L , POS POS , ,>) ) (<T (S\\\\NP)\\\\(S\\\\NP) 0 2> (<L ((S\\\\NP)\\\\(S\\\\NP))/PP POS POS according ((S\\\\NP)\\\\(S\\\\NP))/PP>) (<T PP 0 2> (<L PP/NP POS POS to PP/NP>) (<T NP 0 2> (<T NP 0 1> (<L N POS POS evidence N>) ) (<T NP\\\\NP 0 1> (<T S[pss]\\\\NP 0 2> (<L (S[pss]\\\\NP)/PP POS POS submitted (S[pss]\\\\NP)/PP>) (<T PP 0 2> (<L PP/NP POS POS to PP/NP>) (<T NP[nb] 0 2> (<T NP[nb] 0 2> (<L NP[nb]/N POS POS the NP[nb]/N>) (<T N 1 2> (<L N/N POS POS Parliamentary N/N>) (<L N POS POS Ombudsman N>) ) ) (<L . POS POS . .>) ) ) ) ) ) ) ) ) ) ) ) ) ) ) \\n'\n",
      " Sir  Anthony  Barrowclough  was  told  that  police  had  wanted  to  interview  Mrs  Elizabeth  Barlow  in  1981  over  the  collapse  of  a  stockbroking  firm  which  had  links  with  another  investment  company ,  Farrington  Stead ,  a  similar  operation  to  Barlow  Clowes .\n",
      "b'ID=1\\n(<T S[dcl] 1 2> (<T NP 0 1> (<T N 1 2> (<L N/N POS POS Sir N/N>) (<T N 1 2> (<L N/N POS POS Anthony N/N>) (<L N POS POS Barrowclough N>) ) ) ) (<T S[dcl]\\\\NP 0 2> (<L (S[dcl]\\\\NP)/(S[pss]\\\\NP) POS POS was (S[dcl]\\\\NP)/(S[pss]\\\\NP)>) (<T S[pss]\\\\NP 0 2> (<L (S[pss]\\\\NP)/S[em] POS POS told (S[pss]\\\\NP)/S[em]>) (<T S[em] 0 2> (<L S[em]/S[dcl] POS POS that S[em]/S[dcl]>) (<T S[dcl] 1 2> (<T NP 0 1> (<L N POS POS police N>) ) (<T S[dcl]\\\\NP 0 2> (<L (S[dcl]\\\\NP)/(S[pt]\\\\NP) POS POS had (S[dcl]\\\\NP)/(S[pt]\\\\NP)>) (<T S[pt]\\\\NP 0 2> (<L (S[pt]\\\\NP)/(S[to]\\\\NP) POS POS wanted (S[pt]\\\\NP)/(S[to]\\\\NP)>) (<T S[to]\\\\NP 0 2> (<L (S[to]\\\\NP)/(S[b]\\\\NP) POS POS to (S[to]\\\\NP)/(S[b]\\\\NP)>) (<T S[b]\\\\NP 0 2> (<T S[b]\\\\NP 0 2> (<L (S[b]\\\\NP)/NP POS POS interview (S[b]\\\\NP)/NP>) (<T NP 0 1> (<T N 1 2> (<L N/N POS POS Mrs N/N>) (<T N 1 2> (<L N/N POS POS Elizabeth N/N>) (<L N POS POS Barlow N>) ) ) ) ) (<T (S\\\\NP)\\\\(S\\\\NP) 0 2> (<L ((S\\\\NP)\\\\(S\\\\NP))/NP POS POS in ((S\\\\NP)\\\\(S\\\\NP))/NP>) (<T NP 0 2> (<T NP 0 1> (<L N POS POS 1981 N>) ) (<T NP\\\\NP 0 2> (<L (NP\\\\NP)/NP POS POS over (NP\\\\NP)/NP>) (<T NP[nb] 0 2> (<T NP[nb] 0 2> (<L NP[nb]/N POS POS the NP[nb]/N>) (<L N POS POS collapse N>) ) (<T NP\\\\NP 0 2> (<L (NP\\\\NP)/NP POS POS of (NP\\\\NP)/NP>) (<T NP[nb] 0 2> (<T NP[nb] 0 2> (<L NP[nb]/N POS POS a NP[nb]/N>) (<T N 1 2> (<L N/N POS POS stockbroking N/N>) (<L N POS POS firm N>) ) ) (<T NP\\\\NP 0 2> (<L (NP\\\\NP)/(S[dcl]\\\\NP) POS POS which (NP\\\\NP)/(S[dcl]\\\\NP)>) (<T S[dcl]\\\\NP 0 2> (<L (S[dcl]\\\\NP)/NP POS POS had (S[dcl]\\\\NP)/NP>) (<T NP 0 2> (<T NP 0 1> (<L N POS POS links N>) ) (<T NP\\\\NP 0 2> (<L (NP\\\\NP)/NP POS POS with (NP\\\\NP)/NP>) (<T NP[nb] 0 2> (<T NP[nb] 0 2> (<L NP[nb]/N POS POS another NP[nb]/N>) (<T N 1 2> (<L N/N POS POS investment N/N>) (<L N POS POS company N>) ) ) (<T NP\\\\NP 1 2> (<L , POS POS , ,>) (<T NP 0 2> (<T NP 0 1> (<T N 1 2> (<L N/N POS POS Farrington N/N>) (<L N POS POS Stead N>) ) ) (<T NP[nb]\\\\NP[nb] 1 2> (<L , POS POS , ,>) (<T NP[nb] 0 2> (<T NP[nb] 0 2> (<L NP[nb]/N POS POS a NP[nb]/N>) (<T N 1 2> (<L N/N POS POS similar N/N>) (<L N POS POS operation N>) ) ) (<T NP\\\\NP 0 2> (<L (NP\\\\NP)/NP POS POS to (NP\\\\NP)/NP>) (<T NP 0 2> (<T NP 0 1> (<T N 1 2> (<L N/N POS POS Barlow N/N>) (<L N POS POS Clowes N>) ) ) (<L . POS POS . .>) ) ) ) ) ) ) ) ) ) ) ) ) ) ) ) ) ) ) ) ) ) ) ) ) ) ) \\n'\n",
      " According  to  the  liquidator  of  the  stockbroking  firm  which  crashed  as  a  result  of  the  Farrington  Stead  failure ,  the  summons  for  her  arrest  was  issued  late  that  year .\n",
      "b'ID=1\\n(<T S[dcl] 1 2> (<T S/S 0 2> (<L (S/S)/PP POS POS According (S/S)/PP>) (<T PP 0 2> (<L PP/NP POS POS to PP/NP>) (<T NP[nb] 0 2> (<T NP[nb] 0 2> (<L NP[nb]/N POS POS the NP[nb]/N>) (<L N POS POS liquidator N>) ) (<T NP\\\\NP 0 2> (<L (NP\\\\NP)/NP POS POS of (NP\\\\NP)/NP>) (<T NP[nb] 0 2> (<T NP[nb] 0 2> (<L NP[nb]/N POS POS the NP[nb]/N>) (<T N 1 2> (<L N/N POS POS stockbroking N/N>) (<L N POS POS firm N>) ) ) (<T NP\\\\NP 0 2> (<L (NP\\\\NP)/(S[dcl]\\\\NP) POS POS which (NP\\\\NP)/(S[dcl]\\\\NP)>) (<T S[dcl]\\\\NP 0 2> (<L S[dcl]\\\\NP POS POS crashed S[dcl]\\\\NP>) (<T (S\\\\NP)\\\\(S\\\\NP) 0 2> (<L ((S\\\\NP)\\\\(S\\\\NP))/NP POS POS as ((S\\\\NP)\\\\(S\\\\NP))/NP>) (<T NP[nb] 0 2> (<T NP[nb] 0 2> (<L NP[nb]/N POS POS a NP[nb]/N>) (<L N POS POS result N>) ) (<T NP\\\\NP 0 2> (<L (NP\\\\NP)/NP POS POS of (NP\\\\NP)/NP>) (<T NP[nb] 0 2> (<T NP[nb] 0 2> (<L NP[nb]/N POS POS the NP[nb]/N>) (<T N 1 2> (<L N/N POS POS Farrington N/N>) (<T N 1 2> (<L N/N POS POS Stead N/N>) (<L N POS POS failure N>) ) ) ) (<L , POS POS , ,>) ) ) ) ) ) ) ) ) ) ) ) (<T S[dcl] 1 2> (<T NP[nb] 0 2> (<T NP[nb] 0 2> (<L NP[nb]/N POS POS the NP[nb]/N>) (<L N POS POS summons N>) ) (<T NP\\\\NP 0 2> (<L (NP\\\\NP)/NP POS POS for (NP\\\\NP)/NP>) (<T NP[nb] 0 2> (<L NP[nb]/N POS POS her NP[nb]/N>) (<L N POS POS arrest N>) ) ) ) (<T S[dcl]\\\\NP 0 2> (<L (S[dcl]\\\\NP)/(S[pss]\\\\NP) POS POS was (S[dcl]\\\\NP)/(S[pss]\\\\NP)>) (<T S[pss]\\\\NP 0 2> (<L S[pss]\\\\NP POS POS issued S[pss]\\\\NP>) (<T (S\\\\NP)\\\\(S\\\\NP) 1 2> (<L ((S\\\\NP)\\\\(S\\\\NP))/((S\\\\NP)\\\\(S\\\\NP)) POS POS late ((S\\\\NP)\\\\(S\\\\NP))/((S\\\\NP)\\\\(S\\\\NP))>) (<T (S\\\\NP)\\\\(S\\\\NP) 0 2> (<T (S\\\\NP)\\\\(S\\\\NP) 0 2> (<L ((S\\\\NP)\\\\(S\\\\NP))/N POS POS that ((S\\\\NP)\\\\(S\\\\NP))/N>) (<L N POS POS year N>) ) (<L . POS POS . .>) ) ) ) ) ) ) \\n'\n",
      " However ,  Mrs  Barlow ,  who  quit  her  partnership  with  Peter  Clowes  in  1978 ,  was  said  to  have  left  Britain .\n",
      "b'ID=1\\n(<T S[dcl] 1 2> (<T S/S 0 2> (<L S/S POS POS However S/S>) (<L , POS POS , ,>) ) (<T S[dcl] 1 2> (<T NP 0 2> (<T NP 0 2> (<T NP 0 1> (<T N 1 2> (<L N/N POS POS Mrs N/N>) (<L N POS POS Barlow N>) ) ) (<L , POS POS , ,>) ) (<T NP\\\\NP 0 2> (<L (NP\\\\NP)/(S[dcl]\\\\NP) POS POS who (NP\\\\NP)/(S[dcl]\\\\NP)>) (<T S[dcl]\\\\NP 0 2> (<L (S[dcl]\\\\NP)/NP POS POS quit (S[dcl]\\\\NP)/NP>) (<T NP[nb] 0 2> (<T NP[nb] 0 2> (<L NP[nb]/N POS POS her NP[nb]/N>) (<L N POS POS partnership N>) ) (<T NP\\\\NP 0 2> (<L (NP\\\\NP)/NP POS POS with (NP\\\\NP)/NP>) (<T NP 0 2> (<T NP 0 1> (<T N 1 2> (<L N/N POS POS Peter N/N>) (<L N POS POS Clowes N>) ) ) (<T NP\\\\NP 0 2> (<L (NP\\\\NP)/NP POS POS in (NP\\\\NP)/NP>) (<T NP 0 2> (<T NP 0 1> (<L N POS POS 1978 N>) ) (<L , POS POS , ,>) ) ) ) ) ) ) ) ) (<T S[dcl]\\\\NP 0 2> (<L (S[dcl]\\\\NP)/(S[pss]\\\\NP) POS POS was (S[dcl]\\\\NP)/(S[pss]\\\\NP)>) (<T S[pss]\\\\NP 0 2> (<L (S[pss]\\\\NP)/(S[to]\\\\NP) POS POS said (S[pss]\\\\NP)/(S[to]\\\\NP)>) (<T S[to]\\\\NP 0 2> (<L (S[to]\\\\NP)/(S[b]\\\\NP) POS POS to (S[to]\\\\NP)/(S[b]\\\\NP)>) (<T S[b]\\\\NP 0 2> (<L (S[b]\\\\NP)/(S[pt]\\\\NP) POS POS have (S[b]\\\\NP)/(S[pt]\\\\NP)>) (<T S[pt]\\\\NP 0 2> (<L (S[pt]\\\\NP)/NP POS POS left (S[pt]\\\\NP)/NP>) (<T NP 0 2> (<T NP 0 1> (<L N POS POS Britain N>) ) (<L . POS POS . .>) ) ) ) ) ) ) ) ) \\n'\n"
     ]
    },
    {
     "name": "stdout",
     "output_type": "stream",
     "text": [
      " In  his  report  published  two  days  ago  in  which  he  accused  the  Department  of  Trade  and  Industry  of  ‘ substantial  maladministration ’  over  the  Barlow  Clowes  affair ,  Sir  Anthony  wrote :  ‘ He  ( the  liquidator )  believed  that  the  warrant  for  her  arrest  still  remained  outstanding . ’\n",
      "b'ID=1\\n(<T S[dcl] 1 2> (<T S/S 0 2> (<L (S/S)/NP POS POS In (S/S)/NP>) (<T NP[nb] 0 2> (<T NP[nb] 0 2> (<T NP[nb] 0 2> (<L NP[nb]/N POS POS his NP[nb]/N>) (<L N POS POS report N>) ) (<T NP\\\\NP 0 1> (<T S[pss]\\\\NP 0 2> (<L S[pss]\\\\NP POS POS published S[pss]\\\\NP>) (<T (S\\\\NP)\\\\(S\\\\NP) 1 2> (<T NP 0 1> (<T N 1 2> (<L N/N POS POS two N/N>) (<L N POS POS days N>) ) ) (<L ((S\\\\NP)\\\\(S\\\\NP))\\\\NP POS POS ago ((S\\\\NP)\\\\(S\\\\NP))\\\\NP>) ) ) ) ) (<T NP\\\\NP 0 2> (<T (NP\\\\NP)/S[dcl] 1 2> (<L (NP\\\\NP)/NP POS POS in (NP\\\\NP)/NP>) (<L ((NP\\\\NP)/S[dcl])\\\\((NP\\\\NP)/NP) POS POS which ((NP\\\\NP)/S[dcl])\\\\((NP\\\\NP)/NP)>) ) (<T S[dcl] 1 2> (<L NP POS POS he NP>) (<T S[dcl]\\\\NP 0 2> (<T (S[dcl]\\\\NP)/PP 0 2> (<L ((S[dcl]\\\\NP)/PP)/NP POS POS accused ((S[dcl]\\\\NP)/PP)/NP>) (<T NP[nb] 0 2> (<T NP[nb] 0 2> (<L NP[nb]/N POS POS the NP[nb]/N>) (<L N POS POS Department N>) ) (<T NP\\\\NP 0 2> (<L (NP\\\\NP)/NP POS POS of (NP\\\\NP)/NP>) (<T NP 0 2> (<T NP 0 1> (<L N POS POS Trade N>) ) (<T NP\\\\NP 1 2> (<L conj POS POS and conj>) (<T NP 0 1> (<L N POS POS Industry N>) ) ) ) ) ) ) (<T PP 0 2> (<L PP/NP POS POS of PP/NP>) (<T NP 0 2> (<T NP 0 2> (<T NP 0 1> (<T N 1 2> (<T N/N 1 2> (<L LRB POS POS \\xe2\\x80\\x98 LRB>) (<L N/N POS POS substantial N/N>) ) (<L N POS POS maladministration N>) ) ) (<L RRB POS POS \\xe2\\x80\\x99 RRB>) ) (<T NP\\\\NP 0 2> (<L (NP\\\\NP)/NP POS POS over (NP\\\\NP)/NP>) (<T NP[nb] 0 2> (<T NP[nb] 0 2> (<L NP[nb]/N POS POS the NP[nb]/N>) (<T N 1 2> (<L N/N POS POS Barlow N/N>) (<T N 1 2> (<L N/N POS POS Clowes N/N>) (<L N POS POS affair N>) ) ) ) (<L , POS POS , ,>) ) ) ) ) ) ) ) ) ) (<T S[dcl] 1 2> (<T NP 0 1> (<T N 1 2> (<L N/N POS POS Sir N/N>) (<L N POS POS Anthony N>) ) ) (<T S[dcl]\\\\NP 0 2> (<T (S[dcl]\\\\NP)/S[dcl] 0 2> (<L (S[dcl]\\\\NP)/S[dcl] POS POS wrote (S[dcl]\\\\NP)/S[dcl]>) (<L : POS POS : :>) ) (<T S[dcl] 1 2> (<T NP 1 2> (<L LRB POS POS \\xe2\\x80\\x98 LRB>) (<T NP 0 2> (<L NP POS POS He NP>) (<T NP\\\\NP 0 2> (<L (NP\\\\NP)/NP POS POS -LRB- (NP\\\\NP)/NP>) (<T NP[nb] 0 2> (<T NP[nb] 0 2> (<L NP[nb]/N POS POS the NP[nb]/N>) (<L N POS POS liquidator N>) ) (<L RRB POS POS -RRB- RRB>) ) ) ) ) (<T S[dcl]\\\\NP 0 2> (<L (S[dcl]\\\\NP)/S[em] POS POS believed (S[dcl]\\\\NP)/S[em]>) (<T S[em] 0 2> (<L S[em]/S[dcl] POS POS that S[em]/S[dcl]>) (<T S[dcl] 1 2> (<T NP[nb] 0 2> (<T NP[nb] 0 2> (<L NP[nb]/N POS POS the NP[nb]/N>) (<L N POS POS warrant N>) ) (<T NP\\\\NP 0 2> (<L (NP\\\\NP)/NP POS POS for (NP\\\\NP)/NP>) (<T NP[nb] 0 2> (<L NP[nb]/N POS POS her NP[nb]/N>) (<L N POS POS arrest N>) ) ) ) (<T S[dcl]\\\\NP 1 2> (<L (S\\\\NP)/(S\\\\NP) POS POS still (S\\\\NP)/(S\\\\NP)>) (<T S[dcl]\\\\NP 0 2> (<L (S[dcl]\\\\NP)/(S[adj]\\\\NP) POS POS remained (S[dcl]\\\\NP)/(S[adj]\\\\NP)>) (<T S[adj]\\\\NP 0 2> (<T S[adj]\\\\NP 0 2> (<L S[adj]\\\\NP POS POS outstanding S[adj]\\\\NP>) (<L . POS POS . .>) ) (<L RRB POS POS \\xe2\\x80\\x99 RRB>) ) ) ) ) ) ) ) ) ) ) \\n'\n",
      " Mrs  Barlow  is  now  thought  to  be  living  in  the  United  States .\n",
      "b'ID=1\\n(<T S[dcl] 1 2> (<T NP 0 1> (<T N 1 2> (<L N/N POS POS Mrs N/N>) (<L N POS POS Barlow N>) ) ) (<T S[dcl]\\\\NP 0 2> (<T (S[dcl]\\\\NP)/(S[pss]\\\\NP) 0 2> (<L (S[dcl]\\\\NP)/(S[pss]\\\\NP) POS POS is (S[dcl]\\\\NP)/(S[pss]\\\\NP)>) (<L (S\\\\NP)\\\\(S\\\\NP) POS POS now (S\\\\NP)\\\\(S\\\\NP)>) ) (<T S[pss]\\\\NP 0 2> (<L (S[pss]\\\\NP)/(S[to]\\\\NP) POS POS thought (S[pss]\\\\NP)/(S[to]\\\\NP)>) (<T S[to]\\\\NP 0 2> (<L (S[to]\\\\NP)/(S[b]\\\\NP) POS POS to (S[to]\\\\NP)/(S[b]\\\\NP)>) (<T S[b]\\\\NP 0 2> (<L (S[b]\\\\NP)/(S[ng]\\\\NP) POS POS be (S[b]\\\\NP)/(S[ng]\\\\NP)>) (<T S[ng]\\\\NP 0 2> (<L S[ng]\\\\NP POS POS living S[ng]\\\\NP>) (<T (S\\\\NP)\\\\(S\\\\NP) 0 2> (<L ((S\\\\NP)\\\\(S\\\\NP))/NP POS POS in ((S\\\\NP)\\\\(S\\\\NP))/NP>) (<T NP[nb] 0 2> (<T NP[nb] 0 2> (<L NP[nb]/N POS POS the NP[nb]/N>) (<T N 1 2> (<L N/N POS POS United N/N>) (<L N POS POS States N>) ) ) (<L . POS POS . .>) ) ) ) ) ) ) ) ) \\n'\n",
      " Part  of  the  evidence  about  Farrington  Stead  was  supplied  to  the  Ombudsman  by  Manchester  solicitors  Alexander  Tatham ,  the  legal  advisers  to  the  Barlow  Clowes  investors  group .\n",
      "b'ID=1\\n(<T S[dcl] 1 2> (<T NP 0 2> (<T NP 0 1> (<L N POS POS Part N>) ) (<T NP\\\\NP 0 2> (<L (NP\\\\NP)/NP POS POS of (NP\\\\NP)/NP>) (<T NP[nb] 0 2> (<T NP[nb] 0 2> (<L NP[nb]/N POS POS the NP[nb]/N>) (<L N POS POS evidence N>) ) (<T NP\\\\NP 0 2> (<L (NP\\\\NP)/NP POS POS about (NP\\\\NP)/NP>) (<T NP 0 1> (<T N 1 2> (<L N/N POS POS Farrington N/N>) (<L N POS POS Stead N>) ) ) ) ) ) ) (<T S[dcl]\\\\NP 0 2> (<L (S[dcl]\\\\NP)/(S[pss]\\\\NP) POS POS was (S[dcl]\\\\NP)/(S[pss]\\\\NP)>) (<T S[pss]\\\\NP 0 2> (<L (S[pss]\\\\NP)/PP POS POS supplied (S[pss]\\\\NP)/PP>) (<T PP 0 2> (<L PP/NP POS POS to PP/NP>) (<T NP[nb] 0 2> (<T NP[nb] 0 2> (<L NP[nb]/N POS POS the NP[nb]/N>) (<L N POS POS Ombudsman N>) ) (<T NP\\\\NP 0 2> (<L (NP\\\\NP)/NP POS POS by (NP\\\\NP)/NP>) (<T NP 0 2> (<T NP 0 1> (<T N 1 2> (<L N/N POS POS Manchester N/N>) (<T N 1 2> (<L N/N POS POS solicitors N/N>) (<T N 1 2> (<L N/N POS POS Alexander N/N>) (<L N POS POS Tatham N>) ) ) ) ) (<T NP[nb]\\\\NP[nb] 1 2> (<L , POS POS , ,>) (<T NP[nb] 0 2> (<T NP[nb] 0 2> (<L NP[nb]/N POS POS the NP[nb]/N>) (<T N 1 2> (<L N/N POS POS legal N/N>) (<L N POS POS advisers N>) ) ) (<T NP\\\\NP 0 2> (<L (NP\\\\NP)/NP POS POS to (NP\\\\NP)/NP>) (<T NP[nb] 0 2> (<T NP[nb] 0 2> (<L NP[nb]/N POS POS the NP[nb]/N>) (<T N 1 2> (<L N/N POS POS Barlow N/N>) (<T N 1 2> (<L N/N POS POS Clowes N/N>) (<T N 1 2> (<L N/N POS POS investors N/N>) (<L N POS POS group N>) ) ) ) ) (<L . POS POS . .>) ) ) ) ) ) ) ) ) ) ) ) \\n'\n",
      " Tatham  also  represented  investors  who  were  caught  up  in  the  Farrington  Stead  collapse .\n",
      "b'ID=1\\n(<T S[dcl] 1 2> (<T NP 0 1> (<L N POS POS Tatham N>) ) (<T S[dcl]\\\\NP 0 2> (<T (S[dcl]\\\\NP)/NP 1 2> (<L (S\\\\NP)/(S\\\\NP) POS POS also (S\\\\NP)/(S\\\\NP)>) (<L (S[dcl]\\\\NP)/NP POS POS represented (S[dcl]\\\\NP)/NP>) ) (<T (S[X]\\\\NP)\\\\((S[X]\\\\NP)/NP) 0 1> (<T NP 0 2> (<T NP 0 1> (<L N POS POS investors N>) ) (<T NP\\\\NP 0 2> (<L (NP\\\\NP)/(S[dcl]\\\\NP) POS POS who (NP\\\\NP)/(S[dcl]\\\\NP)>) (<T S[dcl]\\\\NP 0 2> (<L (S[dcl]\\\\NP)/(S[pss]\\\\NP) POS POS were (S[dcl]\\\\NP)/(S[pss]\\\\NP)>) (<T S[pss]\\\\NP 0 2> (<T S[pss]\\\\NP 0 2> (<L S[pss]\\\\NP POS POS caught S[pss]\\\\NP>) (<L (S\\\\NP)\\\\(S\\\\NP) POS POS up (S\\\\NP)\\\\(S\\\\NP)>) ) (<T (S\\\\NP)\\\\(S\\\\NP) 0 2> (<L ((S\\\\NP)\\\\(S\\\\NP))/NP POS POS in ((S\\\\NP)\\\\(S\\\\NP))/NP>) (<T NP[nb] 0 2> (<T NP[nb] 0 2> (<L NP[nb]/N POS POS the NP[nb]/N>) (<T N 1 2> (<L N/N POS POS Farrington N/N>) (<T N 1 2> (<L N/N POS POS Stead N/N>) (<L N POS POS collapse N>) ) ) ) (<L . POS POS . .>) ) ) ) ) ) ) ) ) ) \\n'\n",
      " Farrington  Stead  dealt  in  gilt-edged  securities ,  investments  also  offered  by  Barlow  Clowes  which  went  into  liquidation  in  June  1988  owing  £190million .\n",
      "b'ID=1\\n(<T S[dcl] 1 2> (<T NP 0 1> (<T N 1 2> (<L N/N POS POS Farrington N/N>) (<L N POS POS Stead N>) ) ) (<T S[dcl]\\\\NP 0 2> (<L (S[dcl]\\\\NP)/PP POS POS dealt (S[dcl]\\\\NP)/PP>) (<T PP 0 2> (<L PP/NP POS POS in PP/NP>) (<T NP 0 2> (<T NP 0 1> (<T N 1 2> (<L N/N POS POS gilt-edged N/N>) (<L N POS POS securities N>) ) ) (<T NP\\\\NP 1 2> (<L , POS POS , ,>) (<T NP 0 2> (<T NP 0 1> (<L N POS POS investments N>) ) (<T NP\\\\NP 0 1> (<T S[pss]\\\\NP 1 2> (<L (S\\\\NP)/(S\\\\NP) POS POS also (S\\\\NP)/(S\\\\NP)>) (<T S[pss]\\\\NP 0 2> (<L S[pss]\\\\NP POS POS offered S[pss]\\\\NP>) (<T (S\\\\NP)\\\\(S\\\\NP) 0 2> (<L ((S\\\\NP)\\\\(S\\\\NP))/NP POS POS by ((S\\\\NP)\\\\(S\\\\NP))/NP>) (<T NP 0 2> (<T NP 0 1> (<T N 1 2> (<L N/N POS POS Barlow N/N>) (<L N POS POS Clowes N>) ) ) (<T NP\\\\NP 0 2> (<L (NP\\\\NP)/(S[dcl]\\\\NP) POS POS which (NP\\\\NP)/(S[dcl]\\\\NP)>) (<T S[dcl]\\\\NP 0 2> (<T S[dcl]\\\\NP 0 2> (<L S[dcl]\\\\NP POS POS went S[dcl]\\\\NP>) (<T (S\\\\NP)\\\\(S\\\\NP) 0 2> (<L ((S\\\\NP)\\\\(S\\\\NP))/NP POS POS into ((S\\\\NP)\\\\(S\\\\NP))/NP>) (<T NP 0 1> (<L N POS POS liquidation N>) ) ) ) (<T (S\\\\NP)\\\\(S\\\\NP) 0 2> (<L ((S\\\\NP)\\\\(S\\\\NP))/NP POS POS in ((S\\\\NP)\\\\(S\\\\NP))/NP>) (<T NP 0 2> (<T NP 0 1> (<T N 0 2> (<L N POS POS June N>) (<L N\\\\N POS POS 1988 N\\\\N>) ) ) (<T NP\\\\NP 0 1> (<T S[ng]\\\\NP 0 2> (<L (S[ng]\\\\NP)/NP POS POS owing (S[ng]\\\\NP)/NP>) (<T NP 0 2> (<T NP 0 1> (<L N POS POS \\xc2\\xa3190million N>) ) (<L . POS POS . .>) ) ) ) ) ) ) ) ) ) ) ) ) ) ) ) ) ) ) \\n'\n"
     ]
    },
    {
     "name": "stdout",
     "output_type": "stream",
     "text": [
      " It  is  understood  that  Farrington  Stead  was  set  up  by  former  employees  of  Barlow  Clowes .\n",
      "b'ID=1\\n(<T S[dcl] 1 2> (<L NP POS POS It NP>) (<T S[dcl]\\\\NP 0 2> (<L (S[dcl]\\\\NP)/(S[pss]\\\\NP) POS POS is (S[dcl]\\\\NP)/(S[pss]\\\\NP)>) (<T S[pss]\\\\NP 0 2> (<L (S[pss]\\\\NP)/S[em] POS POS understood (S[pss]\\\\NP)/S[em]>) (<T S[em] 0 2> (<L S[em]/S[dcl] POS POS that S[em]/S[dcl]>) (<T S[dcl] 1 2> (<T NP 0 1> (<T N 1 2> (<L N/N POS POS Farrington N/N>) (<L N POS POS Stead N>) ) ) (<T S[dcl]\\\\NP 0 2> (<L (S[dcl]\\\\NP)/(S[pss]\\\\NP) POS POS was (S[dcl]\\\\NP)/(S[pss]\\\\NP)>) (<T S[pss]\\\\NP 0 2> (<T S[pss]\\\\NP 0 2> (<L S[pss]\\\\NP POS POS set S[pss]\\\\NP>) (<L (S\\\\NP)\\\\(S\\\\NP) POS POS up (S\\\\NP)\\\\(S\\\\NP)>) ) (<T (S\\\\NP)\\\\(S\\\\NP) 0 2> (<L ((S\\\\NP)\\\\(S\\\\NP))/NP POS POS by ((S\\\\NP)\\\\(S\\\\NP))/NP>) (<T NP 0 2> (<T NP 0 1> (<T N 1 2> (<L N/N POS POS former N/N>) (<L N POS POS employees N>) ) ) (<T NP\\\\NP 0 2> (<L (NP\\\\NP)/NP POS POS of (NP\\\\NP)/NP>) (<T NP 0 2> (<T NP 0 1> (<T N 1 2> (<L N/N POS POS Barlow N/N>) (<L N POS POS Clowes N>) ) ) (<L . POS POS . .>) ) ) ) ) ) ) ) ) ) ) ) \\n'\n",
      " Farrington  Stead  failed  in  the  early  part  of  1981  owing  substantial  debts  to  Hedderwick  Stirling  Grumbar ,  a  London  stockbroker .\n",
      "b'ID=1\\n(<T S[dcl] 1 2> (<T NP 0 1> (<T N 1 2> (<L N/N POS POS Farrington N/N>) (<L N POS POS Stead N>) ) ) (<T S[dcl]\\\\NP 0 2> (<L S[dcl]\\\\NP POS POS failed S[dcl]\\\\NP>) (<T (S\\\\NP)\\\\(S\\\\NP) 0 2> (<L ((S\\\\NP)\\\\(S\\\\NP))/NP POS POS in ((S\\\\NP)\\\\(S\\\\NP))/NP>) (<T NP[nb] 0 2> (<T NP[nb] 0 2> (<L NP[nb]/N POS POS the NP[nb]/N>) (<T N 1 2> (<L N/N POS POS early N/N>) (<L N POS POS part N>) ) ) (<T NP\\\\NP 0 2> (<L (NP\\\\NP)/NP POS POS of (NP\\\\NP)/NP>) (<T NP 0 2> (<T NP 0 1> (<L N POS POS 1981 N>) ) (<T NP\\\\NP 0 1> (<T S[ng]\\\\NP 0 2> (<T S[ng]\\\\NP 0 2> (<L (S[ng]\\\\NP)/NP POS POS owing (S[ng]\\\\NP)/NP>) (<T (S[X]\\\\NP)\\\\((S[X]\\\\NP)/NP) 0 1> (<T NP 0 1> (<T N 1 2> (<L N/N POS POS substantial N/N>) (<L N POS POS debts N>) ) ) ) ) (<T (S\\\\NP)\\\\(S\\\\NP) 0 2> (<L ((S\\\\NP)\\\\(S\\\\NP))/NP POS POS to ((S\\\\NP)\\\\(S\\\\NP))/NP>) (<T NP 0 2> (<T NP 0 1> (<T N 1 2> (<L N/N POS POS Hedderwick N/N>) (<T N 1 2> (<L N/N POS POS Stirling N/N>) (<L N POS POS Grumbar N>) ) ) ) (<T NP[nb]\\\\NP[nb] 0 2> (<T NP[nb]\\\\NP[nb] 1 2> (<L , POS POS , ,>) (<T NP[nb] 0 2> (<L NP[nb]/N POS POS a NP[nb]/N>) (<T N 1 2> (<L N/N POS POS London N/N>) (<L N POS POS stockbroker N>) ) ) ) (<L . POS POS . .>) ) ) ) ) ) ) ) ) ) ) ) \\n'\n",
      " As  a  result ,  Hedderwick  collapsed  and  was  ‘ hammered ’  by  the  Stock  Exchange  on  April  10  —  a  move  which  forced  it  out  of  broking .\n",
      "b'ID=1\\n(<T S[dcl] 1 2> (<T S/S 0 2> (<L (S/S)/NP POS POS As (S/S)/NP>) (<T NP[nb] 0 2> (<T NP[nb] 0 2> (<L NP[nb]/N POS POS a NP[nb]/N>) (<L N POS POS result N>) ) (<L , POS POS , ,>) ) ) (<T S[dcl] 1 2> (<T NP 0 1> (<L N POS POS Hedderwick N>) ) (<T S[dcl]\\\\NP 0 2> (<L S[dcl]\\\\NP POS POS collapsed S[dcl]\\\\NP>) (<T (S[dcl]\\\\NP)\\\\(S[dcl]\\\\NP) 1 2> (<L conj POS POS and conj>) (<T S[dcl]\\\\NP 0 2> (<L (S[dcl]\\\\NP)/NP POS POS was (S[dcl]\\\\NP)/NP>) (<T NP 0 2> (<T NP 0 1> (<L N POS POS \\xe2\\x80\\x98 N>) ) (<T NP\\\\NP 0 1> (<T S[pss]\\\\NP 0 2> (<T S[pss]\\\\NP 0 2> (<L S[pss]\\\\NP POS POS hammered S[pss]\\\\NP>) (<L RRB POS POS \\xe2\\x80\\x99 RRB>) ) (<T (S\\\\NP)\\\\(S\\\\NP) 0 2> (<L ((S\\\\NP)\\\\(S\\\\NP))/NP POS POS by ((S\\\\NP)\\\\(S\\\\NP))/NP>) (<T NP[nb] 0 2> (<T NP[nb] 0 2> (<L NP[nb]/N POS POS the NP[nb]/N>) (<T N 1 2> (<L N/N POS POS Stock N/N>) (<L N POS POS Exchange N>) ) ) (<T NP\\\\NP 0 2> (<L (NP\\\\NP)/NP POS POS on (NP\\\\NP)/NP>) (<T NP 0 2> (<T NP 0 2> (<T NP 0 1> (<T N 0 2> (<L N/N[num] POS POS April N/N[num]>) (<L N[num] POS POS 10 N[num]>) ) ) (<T NP\\\\NP 1 2> (<L LRB POS POS \\xe2\\x80\\x94 LRB>) (<T NP\\\\NP 0 2> (<L (NP\\\\NP)/N POS POS a (NP\\\\NP)/N>) (<L N POS POS move N>) ) ) ) (<T NP\\\\NP 0 2> (<L (NP\\\\NP)/(S[dcl]\\\\NP) POS POS which (NP\\\\NP)/(S[dcl]\\\\NP)>) (<T S[dcl]\\\\NP 0 2> (<T S[dcl]\\\\NP 0 2> (<L (S[dcl]\\\\NP)/NP POS POS forced (S[dcl]\\\\NP)/NP>) (<L NP POS POS it NP>) ) (<T (S\\\\NP)\\\\(S\\\\NP) 0 2> (<L ((S\\\\NP)\\\\(S\\\\NP))/PP POS POS out ((S\\\\NP)\\\\(S\\\\NP))/PP>) (<T PP 0 2> (<L PP/NP POS POS of PP/NP>) (<T NP 0 2> (<T NP 0 1> (<L N POS POS broking N>) ) (<L . POS POS . .>) ) ) ) ) ) ) ) ) ) ) ) ) ) ) ) ) ) \\n'\n",
      " Barlow  Clowes '  indirect  links  with  the  case  were  raised  with  the  DTI  by  the  Stock  Exchange  when  Hedderwick 's  liquidator  contacted  the  head  of  its  licensing  unit .\n",
      "b\"ID=1\\n(<T S[dcl] 1 2> (<T NP[nb] 0 2> (<T NP[nb] 0 2> (<T NP[nb]/N 1 2> (<T NP 0 1> (<T N 1 2> (<L N/N POS POS Barlow N/N>) (<L N POS POS Clowes N>) ) ) (<L (NP[nb]/N)\\\\NP POS POS ' (NP[nb]/N)\\\\NP>) ) (<T N 1 2> (<L N/N POS POS indirect N/N>) (<L N POS POS links N>) ) ) (<T NP\\\\NP 0 2> (<L (NP\\\\NP)/NP POS POS with (NP\\\\NP)/NP>) (<T NP[nb] 0 2> (<L NP[nb]/N POS POS the NP[nb]/N>) (<L N POS POS case N>) ) ) ) (<T S[dcl]\\\\NP 0 2> (<L (S[dcl]\\\\NP)/(S[pss]\\\\NP) POS POS were (S[dcl]\\\\NP)/(S[pss]\\\\NP)>) (<T S[pss]\\\\NP 0 2> (<T S[pss]\\\\NP 0 2> (<L S[pss]\\\\NP POS POS raised S[pss]\\\\NP>) (<T (S\\\\NP)\\\\(S\\\\NP) 0 2> (<L ((S\\\\NP)\\\\(S\\\\NP))/NP POS POS with ((S\\\\NP)\\\\(S\\\\NP))/NP>) (<T NP[nb] 0 2> (<T NP[nb] 0 2> (<L NP[nb]/N POS POS the NP[nb]/N>) (<L N POS POS DTI N>) ) (<T NP\\\\NP 0 2> (<L (NP\\\\NP)/NP POS POS by (NP\\\\NP)/NP>) (<T NP[nb] 0 2> (<L NP[nb]/N POS POS the NP[nb]/N>) (<T N 1 2> (<L N/N POS POS Stock N/N>) (<L N POS POS Exchange N>) ) ) ) ) ) ) (<T (S\\\\NP)\\\\(S\\\\NP) 0 2> (<L ((S\\\\NP)\\\\(S\\\\NP))/S[dcl] POS POS when ((S\\\\NP)\\\\(S\\\\NP))/S[dcl]>) (<T S[dcl] 1 2> (<T NP[nb] 0 2> (<T NP[nb]/N 1 2> (<T NP 0 1> (<L N POS POS Hedderwick N>) ) (<L (NP[nb]/N)\\\\NP POS POS 's (NP[nb]/N)\\\\NP>) ) (<L N POS POS liquidator N>) ) (<T S[dcl]\\\\NP 0 2> (<L (S[dcl]\\\\NP)/NP POS POS contacted (S[dcl]\\\\NP)/NP>) (<T NP[nb] 0 2> (<T NP[nb] 0 2> (<L NP[nb]/N POS POS the NP[nb]/N>) (<L N POS POS head N>) ) (<T NP\\\\NP 0 2> (<L (NP\\\\NP)/NP POS POS of (NP\\\\NP)/NP>) (<T NP[nb] 0 2> (<T NP[nb] 0 2> (<L NP[nb]/N POS POS its NP[nb]/N>) (<T N 1 2> (<L N/N POS POS licensing N/N>) (<L N POS POS unit N>) ) ) (<L . POS POS . .>) ) ) ) ) ) ) ) ) ) \\n\"\n",
      " The  Ombudsman 's  report  notes  the  liquidator  expressed  surprise  then  that  Barlow  Clowes  was  operating  without  a  licence .\n",
      "b\"ID=1\\n(<T S[dcl] 1 2> (<T NP[nb] 0 2> (<T NP[nb]/N 1 2> (<T NP[nb] 0 2> (<L NP[nb]/N POS POS The NP[nb]/N>) (<L N POS POS Ombudsman N>) ) (<L (NP[nb]/N)\\\\NP POS POS 's (NP[nb]/N)\\\\NP>) ) (<L N POS POS report N>) ) (<T S[dcl]\\\\NP 0 2> (<L (S[dcl]\\\\NP)/S[dcl] POS POS notes (S[dcl]\\\\NP)/S[dcl]>) (<T S[dcl] 1 2> (<T NP[nb] 0 2> (<L NP[nb]/N POS POS the NP[nb]/N>) (<L N POS POS liquidator N>) ) (<T S[dcl]\\\\NP 0 2> (<T S[dcl]\\\\NP 0 2> (<T S[dcl]\\\\NP 0 2> (<L (S[dcl]\\\\NP)/NP POS POS expressed (S[dcl]\\\\NP)/NP>) (<T (S[X]\\\\NP)\\\\((S[X]\\\\NP)/NP) 0 1> (<T NP 0 1> (<L N POS POS surprise N>) ) ) ) (<L (S\\\\NP)\\\\(S\\\\NP) POS POS then (S\\\\NP)\\\\(S\\\\NP)>) ) (<T (S\\\\NP)\\\\(S\\\\NP) 0 2> (<L ((S\\\\NP)\\\\(S\\\\NP))/S[dcl] POS POS that ((S\\\\NP)\\\\(S\\\\NP))/S[dcl]>) (<T S[dcl] 1 2> (<T NP 0 1> (<T N 1 2> (<L N/N POS POS Barlow N/N>) (<L N POS POS Clowes N>) ) ) (<T S[dcl]\\\\NP 0 2> (<L (S[dcl]\\\\NP)/(S[ng]\\\\NP) POS POS was (S[dcl]\\\\NP)/(S[ng]\\\\NP)>) (<T S[ng]\\\\NP 0 2> (<L S[ng]\\\\NP POS POS operating S[ng]\\\\NP>) (<T (S\\\\NP)\\\\(S\\\\NP) 0 2> (<L ((S\\\\NP)\\\\(S\\\\NP))/NP POS POS without ((S\\\\NP)\\\\(S\\\\NP))/NP>) (<T NP[nb] 0 2> (<T NP[nb] 0 2> (<L NP[nb]/N POS POS a NP[nb]/N>) (<L N POS POS licence N>) ) (<L . POS POS . .>) ) ) ) ) ) ) ) ) ) ) \\n\"\n",
      " Ex-Bond  man  held  over  phone  tapping .\n",
      "b'ID=1\\n(<T S[dcl] 1 2> (<T NP 0 1> (<T N 1 2> (<L N/N POS POS Ex-Bond N/N>) (<L N POS POS man N>) ) ) (<T S[dcl]\\\\NP 0 2> (<L (S[dcl]\\\\NP)/PP POS POS held (S[dcl]\\\\NP)/PP>) (<T PP 0 2> (<L PP/NP POS POS over PP/NP>) (<T NP 0 2> (<T NP 0 1> (<T N 1 2> (<L N/N POS POS phone N/N>) (<L N POS POS tapping N>) ) ) (<L . POS POS . .>) ) ) ) ) \\n'\n",
      " By  Jan  Mayman  in  Perth\n",
      "b'ID=1\\n(<T NP 1 2> (<L NP/NP POS POS By NP/NP>) (<T NP 0 2> (<T NP 0 1> (<T N 1 2> (<L N/N POS POS Jan N/N>) (<L N POS POS Mayman N>) ) ) (<T NP\\\\NP 0 2> (<L (NP\\\\NP)/NP POS POS in (NP\\\\NP)/NP>) (<T NP 0 1> (<L N POS POS Perth N>) ) ) ) ) \\n'\n",
      " ABOND  Corporation  director  confirmed  in  Perth  last  night  that  a  man  helping  the  Australian  Federal  Police  with  inquiries  about  alleged  bugging  on  Mr  Robert  Holmes  a  Court 's  phones  was  a  former  Bond  employee .\n",
      "b\"ID=1\\n(<T S[dcl] 1 2> (<T NP 0 1> (<T N 1 2> (<L N/N POS POS ABOND N/N>) (<T N 1 2> (<L N/N POS POS Corporation N/N>) (<L N POS POS director N>) ) ) ) (<T S[dcl]\\\\NP 0 2> (<T (S[dcl]\\\\NP)/S[em] 0 2> (<T (S[dcl]\\\\NP)/S[em] 0 2> (<L (S[dcl]\\\\NP)/S[em] POS POS confirmed (S[dcl]\\\\NP)/S[em]>) (<T (S\\\\NP)\\\\(S\\\\NP) 0 2> (<L ((S\\\\NP)\\\\(S\\\\NP))/NP POS POS in ((S\\\\NP)\\\\(S\\\\NP))/NP>) (<T NP 0 1> (<L N POS POS Perth N>) ) ) ) (<T (S\\\\NP)\\\\(S\\\\NP) 1 2> (<L ((S\\\\NP)\\\\(S\\\\NP))/((S\\\\NP)\\\\(S\\\\NP)) POS POS last ((S\\\\NP)\\\\(S\\\\NP))/((S\\\\NP)\\\\(S\\\\NP))>) (<L (S\\\\NP)\\\\(S\\\\NP) POS POS night (S\\\\NP)\\\\(S\\\\NP)>) ) ) (<T S[em] 0 2> (<L S[em]/S[dcl] POS POS that S[em]/S[dcl]>) (<T S[dcl] 1 2> (<T NP[nb] 0 2> (<T NP[nb] 0 2> (<L NP[nb]/N POS POS a NP[nb]/N>) (<L N POS POS man N>) ) (<T NP\\\\NP 0 1> (<T S[ng]\\\\NP 0 2> (<T (S[ng]\\\\NP)/NP 0 2> (<L ((S[ng]\\\\NP)/NP)/NP POS POS helping ((S[ng]\\\\NP)/NP)/NP>) (<T NP[nb] 0 2> (<T NP[nb] 0 2> (<L NP[nb]/N POS POS the NP[nb]/N>) (<T N 1 2> (<L N/N POS POS Australian N/N>) (<T N 1 2> (<L N/N POS POS Federal N/N>) (<L N POS POS Police N>) ) ) ) (<T NP\\\\NP 0 2> (<L (NP\\\\NP)/NP POS POS with (NP\\\\NP)/NP>) (<T NP 0 2> (<T NP 0 1> (<L N POS POS inquiries N>) ) (<T NP\\\\NP 0 2> (<L (NP\\\\NP)/NP POS POS about (NP\\\\NP)/NP>) (<T NP 0 2> (<T NP 0 1> (<T N 1 2> (<L N/N POS POS alleged N/N>) (<L N POS POS bugging N>) ) ) (<T NP\\\\NP 0 2> (<L (NP\\\\NP)/NP POS POS on (NP\\\\NP)/NP>) (<T NP 0 1> (<T N 1 2> (<L N/N POS POS Mr N/N>) (<T N 1 2> (<L N/N POS POS Robert N/N>) (<L N POS POS Holmes N>) ) ) ) ) ) ) ) ) ) ) (<T NP[nb] 0 2> (<T NP[nb]/N 1 2> (<T NP[nb] 0 2> (<L NP[nb]/N POS POS a NP[nb]/N>) (<L N POS POS Court N>) ) (<L (NP[nb]/N)\\\\NP POS POS 's (NP[nb]/N)\\\\NP>) ) (<L N POS POS phones N>) ) ) ) ) (<T S[dcl]\\\\NP 0 2> (<L (S[dcl]\\\\NP)/NP POS POS was (S[dcl]\\\\NP)/NP>) (<T NP[nb] 0 2> (<T NP[nb] 0 2> (<L NP[nb]/N POS POS a NP[nb]/N>) (<T N 1 2> (<L N/N POS POS former N/N>) (<T N 1 2> (<L N/N POS POS Bond N/N>) (<L N POS POS employee N>) ) ) ) (<L . POS POS . .>) ) ) ) ) ) ) \\n\"\n"
     ]
    },
    {
     "name": "stdout",
     "output_type": "stream",
     "text": [
      " Mr  Peter  Lucas ,  a  director  of  Bond  Corporation ,  named  the  man  as  Mr  David  Michael ,  who ,  he  said ,  had  been  responsible  for  top-level  corporation  security  until  his  dismissal  last  October .\n",
      "b'ID=1\\n(<T S[dcl] 1 2> (<T NP 0 2> (<T NP 0 1> (<T N 1 2> (<L N/N POS POS Mr N/N>) (<T N 1 2> (<L N/N POS POS Peter N/N>) (<L N POS POS Lucas N>) ) ) ) (<T NP[nb]\\\\NP[nb] 1 2> (<L , POS POS , ,>) (<T NP[nb] 0 2> (<T NP[nb] 0 2> (<L NP[nb]/N POS POS a NP[nb]/N>) (<L N POS POS director N>) ) (<T NP\\\\NP 0 2> (<L (NP\\\\NP)/NP POS POS of (NP\\\\NP)/NP>) (<T NP 0 2> (<T NP 0 1> (<T N 1 2> (<L N/N POS POS Bond N/N>) (<L N POS POS Corporation N>) ) ) (<L , POS POS , ,>) ) ) ) ) ) (<T S[dcl]\\\\NP 0 2> (<T S[dcl]\\\\NP 0 2> (<T (S[dcl]\\\\NP)/PP 0 2> (<T (S[dcl]\\\\NP)/PP 0 2> (<L ((S[dcl]\\\\NP)/PP)/NP POS POS named ((S[dcl]\\\\NP)/PP)/NP>) (<T NP[nb] 0 2> (<L NP[nb]/N POS POS the NP[nb]/N>) (<L N POS POS man N>) ) ) (<T (S\\\\NP)\\\\(S\\\\NP) 0 2> (<L ((S\\\\NP)\\\\(S\\\\NP))/S[dcl] POS POS as ((S\\\\NP)\\\\(S\\\\NP))/S[dcl]>) (<T S[dcl] 1 2> (<T NP 0 2> (<T NP 0 2> (<T NP 0 2> (<T NP 0 1> (<T N 1 2> (<L N/N POS POS Mr N/N>) (<T N 1 2> (<L N/N POS POS David N/N>) (<L N POS POS Michael N>) ) ) ) (<L , POS POS , ,>) ) (<L NP\\\\NP POS POS who NP\\\\NP>) ) (<T NP\\\\NP 1 2> (<L , POS POS , ,>) (<L NP POS POS he NP>) ) ) (<T S[dcl]\\\\NP 0 2> (<L S[dcl]\\\\NP POS POS said S[dcl]\\\\NP>) (<T (S[dcl]\\\\NP)\\\\(S[dcl]\\\\NP) 1 2> (<L , POS POS , ,>) (<T S[dcl]\\\\NP 0 2> (<L (S[dcl]\\\\NP)/(S[pt]\\\\NP) POS POS had (S[dcl]\\\\NP)/(S[pt]\\\\NP)>) (<T S[pt]\\\\NP 0 2> (<L (S[pt]\\\\NP)/(S[adj]\\\\NP) POS POS been (S[pt]\\\\NP)/(S[adj]\\\\NP)>) (<T S[adj]\\\\NP 0 2> (<L (S[adj]\\\\NP)/PP POS POS responsible (S[adj]\\\\NP)/PP>) (<T PP 0 2> (<L PP/NP POS POS for PP/NP>) (<T NP 0 1> (<T N 1 2> (<L N/N POS POS top-level N/N>) (<T N 1 2> (<L N/N POS POS corporation N/N>) (<L N POS POS security N>) ) ) ) ) ) ) ) ) ) ) ) ) (<T (S[X]\\\\NP)\\\\((S[X]\\\\NP)/PP) 0 1> (<T PP 0 2> (<L PP/NP POS POS until PP/NP>) (<T NP[nb] 0 2> (<L NP[nb]/N POS POS his NP[nb]/N>) (<L N POS POS dismissal N>) ) ) ) ) (<T (S\\\\NP)\\\\(S\\\\NP) 1 2> (<L ((S\\\\NP)\\\\(S\\\\NP))/((S\\\\NP)\\\\(S\\\\NP)) POS POS last ((S\\\\NP)\\\\(S\\\\NP))/((S\\\\NP)\\\\(S\\\\NP))>) (<T (S\\\\NP)\\\\(S\\\\NP) 0 2> (<L (S\\\\NP)\\\\(S\\\\NP) POS POS October (S\\\\NP)\\\\(S\\\\NP)>) (<L . POS POS . .>) ) ) ) ) \\n'\n",
      " Mr  Michael ,  49 ,  is  believed  to  be  a  former  British  Army  officer  and  is  now  in  hiding  along  with  his  wife  Jane ,  in  a  safe  house  near  Perth  under  the  protection  of  the  Australian  Federal  Police .\n",
      "b'ID=1\\n(<T S[dcl] 1 2> (<T NP 0 2> (<T NP 0 1> (<T N 1 2> (<L N/N POS POS Mr N/N>) (<L N POS POS Michael N>) ) ) (<T NP\\\\NP 1 2> (<L , POS POS , ,>) (<T NP 0 2> (<T NP 0 1> (<L N POS POS 49 N>) ) (<L , POS POS , ,>) ) ) ) (<T S[dcl]\\\\NP 0 2> (<T S[dcl]\\\\NP 0 2> (<L (S[dcl]\\\\NP)/(S[pss]\\\\NP) POS POS is (S[dcl]\\\\NP)/(S[pss]\\\\NP)>) (<T S[pss]\\\\NP 0 2> (<L (S[pss]\\\\NP)/(S[to]\\\\NP) POS POS believed (S[pss]\\\\NP)/(S[to]\\\\NP)>) (<T S[to]\\\\NP 0 2> (<L (S[to]\\\\NP)/(S[b]\\\\NP) POS POS to (S[to]\\\\NP)/(S[b]\\\\NP)>) (<T S[b]\\\\NP 0 2> (<L (S[b]\\\\NP)/NP POS POS be (S[b]\\\\NP)/NP>) (<T NP[nb] 0 2> (<L NP[nb]/N POS POS a NP[nb]/N>) (<T N 1 2> (<L N/N POS POS former N/N>) (<T N 1 2> (<L N/N POS POS British N/N>) (<T N 1 2> (<L N/N POS POS Army N/N>) (<L N POS POS officer N>) ) ) ) ) ) ) ) ) (<T (S[dcl]\\\\NP)\\\\(S[dcl]\\\\NP) 1 2> (<L conj POS POS and conj>) (<T S[dcl]\\\\NP 0 2> (<T (S[dcl]\\\\NP)/PP 0 2> (<L (S[dcl]\\\\NP)/PP POS POS is (S[dcl]\\\\NP)/PP>) (<L (S\\\\NP)\\\\(S\\\\NP) POS POS now (S\\\\NP)\\\\(S\\\\NP)>) ) (<T PP 0 2> (<L PP/(S[ng]\\\\NP) POS POS in PP/(S[ng]\\\\NP)>) (<T S[ng]\\\\NP 0 2> (<T S[ng]\\\\NP 0 2> (<L S[ng]\\\\NP POS POS hiding S[ng]\\\\NP>) (<T (S\\\\NP)\\\\(S\\\\NP) 0 2> (<T (S\\\\NP)\\\\(S\\\\NP) 0 2> (<L ((S\\\\NP)\\\\(S\\\\NP))/PP POS POS along ((S\\\\NP)\\\\(S\\\\NP))/PP>) (<T PP 0 2> (<L PP/NP POS POS with PP/NP>) (<T NP[nb] 0 2> (<L NP[nb]/N POS POS his NP[nb]/N>) (<T N 1 2> (<L N/N POS POS wife N/N>) (<L N POS POS Jane N>) ) ) ) ) (<T ((S\\\\NP)\\\\(S\\\\NP))\\\\((S\\\\NP)\\\\(S\\\\NP)) 1 2> (<L , POS POS , ,>) (<T (S\\\\NP)\\\\(S\\\\NP) 0 2> (<L ((S\\\\NP)\\\\(S\\\\NP))/NP POS POS in ((S\\\\NP)\\\\(S\\\\NP))/NP>) (<T NP[nb] 0 2> (<T NP[nb] 0 2> (<L NP[nb]/N POS POS a NP[nb]/N>) (<T N 1 2> (<L N/N POS POS safe N/N>) (<L N POS POS house N>) ) ) (<T NP\\\\NP 0 2> (<L (NP\\\\NP)/NP POS POS near (NP\\\\NP)/NP>) (<T NP 0 1> (<L N POS POS Perth N>) ) ) ) ) ) ) ) (<T (S\\\\NP)\\\\(S\\\\NP) 0 2> (<L ((S\\\\NP)\\\\(S\\\\NP))/NP POS POS under ((S\\\\NP)\\\\(S\\\\NP))/NP>) (<T NP[nb] 0 2> (<T NP[nb] 0 2> (<L NP[nb]/N POS POS the NP[nb]/N>) (<L N POS POS protection N>) ) (<T NP\\\\NP 0 2> (<L (NP\\\\NP)/NP POS POS of (NP\\\\NP)/NP>) (<T NP[nb] 0 2> (<T NP[nb] 0 2> (<L NP[nb]/N POS POS the NP[nb]/N>) (<T N 1 2> (<L N/N POS POS Australian N/N>) (<T N 1 2> (<L N/N POS POS Federal N/N>) (<L N POS POS Police N>) ) ) ) (<L . POS POS . .>) ) ) ) ) ) ) ) ) ) ) \\n'\n",
      " The  couple  disappeared  from  their  Perth  suburban  house  about  two  weeks  ago  after  telling  friends  they  were  seriously  worried  about  their  personal  security .\n",
      "b'ID=1\\n(<T S[dcl] 1 2> (<T NP[nb] 0 2> (<L NP[nb]/N POS POS The NP[nb]/N>) (<L N POS POS couple N>) ) (<T S[dcl]\\\\NP 0 2> (<T S[dcl]\\\\NP 0 2> (<T S[dcl]\\\\NP 0 2> (<L S[dcl]\\\\NP POS POS disappeared S[dcl]\\\\NP>) (<T (S\\\\NP)\\\\(S\\\\NP) 0 2> (<L ((S\\\\NP)\\\\(S\\\\NP))/NP POS POS from ((S\\\\NP)\\\\(S\\\\NP))/NP>) (<T NP[nb] 0 2> (<L NP[nb]/N POS POS their NP[nb]/N>) (<T N 1 2> (<L N/N POS POS Perth N/N>) (<T N 1 2> (<L N/N POS POS suburban N/N>) (<L N POS POS house N>) ) ) ) ) ) (<T (S\\\\NP)\\\\(S\\\\NP) 1 2> (<T NP 0 1> (<T N 1 2> (<T N/N 1 2> (<L (N/N)/(N/N) POS POS about (N/N)/(N/N)>) (<L N/N POS POS two N/N>) ) (<L N POS POS weeks N>) ) ) (<L ((S\\\\NP)\\\\(S\\\\NP))\\\\NP POS POS ago ((S\\\\NP)\\\\(S\\\\NP))\\\\NP>) ) ) (<T (S\\\\NP)\\\\(S\\\\NP) 0 2> (<L ((S\\\\NP)\\\\(S\\\\NP))/(S[ng]\\\\NP) POS POS after ((S\\\\NP)\\\\(S\\\\NP))/(S[ng]\\\\NP)>) (<T S[ng]\\\\NP 0 2> (<T (S[ng]\\\\NP)/NP 0 2> (<L ((S[ng]\\\\NP)/NP)/NP POS POS telling ((S[ng]\\\\NP)/NP)/NP>) (<T NP 0 2> (<T NP 0 1> (<L N POS POS friends N>) ) (<T NP\\\\NP 0 1> (<T S[dcl]/NP 1 2> (<T S[X]/(S[X]\\\\NP) 0 1> (<L NP POS POS they NP>) ) (<T (S[dcl]\\\\NP)/NP 0 2> (<T (S[dcl]\\\\NP)/(S[adj]\\\\NP) 0 2> (<L (S[dcl]\\\\NP)/(S[adj]\\\\NP) POS POS were (S[dcl]\\\\NP)/(S[adj]\\\\NP)>) (<L (S\\\\NP)\\\\(S\\\\NP) POS POS seriously (S\\\\NP)\\\\(S\\\\NP)>) ) (<T (S[adj]\\\\NP)/NP 0 2> (<L (S[adj]\\\\NP)/PP POS POS worried (S[adj]\\\\NP)/PP>) (<L PP/NP POS POS about PP/NP>) ) ) ) ) ) ) (<T NP[nb] 0 2> (<T NP[nb] 0 2> (<L NP[nb]/N POS POS their NP[nb]/N>) (<T N 1 2> (<L N/N POS POS personal N/N>) (<L N POS POS security N>) ) ) (<L . POS POS . .>) ) ) ) ) ) \\n'\n",
      " Mr  Lucas  said  Michael  worked  for  Bond  Corporation  for  around  five  years  and  was  trusted  so  greatly  he  was  given  responsibility  for  the  security  of  international  VIPs  who  visited  Western  Australia  during  Bond 's  America 's  Cup  defence  three  years  ago .\n",
      "b\"ID=1\\n(<T S[dcl] 1 2> (<T NP 0 1> (<T N 1 2> (<L N/N POS POS Mr N/N>) (<L N POS POS Lucas N>) ) ) (<T S[dcl]\\\\NP 0 2> (<L (S[dcl]\\\\NP)/S[dcl] POS POS said (S[dcl]\\\\NP)/S[dcl]>) (<T S[dcl] 0 2> (<T S[dcl] 1 2> (<T NP 0 1> (<L N POS POS Michael N>) ) (<T S[dcl]\\\\NP 0 2> (<T (S[dcl]\\\\NP)/PP 0 2> (<L (S[dcl]\\\\NP)/PP POS POS worked (S[dcl]\\\\NP)/PP>) (<T (S\\\\NP)\\\\(S\\\\NP) 0 2> (<L ((S\\\\NP)\\\\(S\\\\NP))/NP POS POS for ((S\\\\NP)\\\\(S\\\\NP))/NP>) (<T NP 0 1> (<T N 1 2> (<L N/N POS POS Bond N/N>) (<L N POS POS Corporation N>) ) ) ) ) (<T (S[X]\\\\NP)\\\\((S[X]\\\\NP)/PP) 0 1> (<T PP 0 2> (<L PP/NP POS POS for PP/NP>) (<T NP 0 1> (<T N 1 2> (<T N/N 1 2> (<L (N/N)/(N/N) POS POS around (N/N)/(N/N)>) (<L N/N POS POS five N/N>) ) (<L N POS POS years N>) ) ) ) ) ) ) (<T S[dcl]\\\\S[dcl] 1 2> (<L conj POS POS and conj>) (<T S[dcl] 1 2> (<T S/S 0 1> (<T S[pss]\\\\NP 0 2> (<T S[pss]\\\\NP 1 2> (<L (S[pss]\\\\NP)/(S[pss]\\\\NP) POS POS was (S[pss]\\\\NP)/(S[pss]\\\\NP)>) (<L S[pss]\\\\NP POS POS trusted S[pss]\\\\NP>) ) (<T (S\\\\NP)\\\\(S\\\\NP) 1 2> (<L ((S\\\\NP)\\\\(S\\\\NP))/((S\\\\NP)\\\\(S\\\\NP)) POS POS so ((S\\\\NP)\\\\(S\\\\NP))/((S\\\\NP)\\\\(S\\\\NP))>) (<L (S\\\\NP)\\\\(S\\\\NP) POS POS greatly (S\\\\NP)\\\\(S\\\\NP)>) ) ) ) (<T S[dcl] 1 2> (<L NP POS POS he NP>) (<T S[dcl]\\\\NP 0 2> (<L (S[dcl]\\\\NP)/(S[pss]\\\\NP) POS POS was (S[dcl]\\\\NP)/(S[pss]\\\\NP)>) (<T S[pss]\\\\NP 0 2> (<L (S[pss]\\\\NP)/NP POS POS given (S[pss]\\\\NP)/NP>) (<T NP 0 2> (<T NP 0 1> (<L N POS POS responsibility N>) ) (<T NP\\\\NP 0 2> (<L (NP\\\\NP)/NP POS POS for (NP\\\\NP)/NP>) (<T NP[nb] 0 2> (<T NP[nb] 0 2> (<L NP[nb]/N POS POS the NP[nb]/N>) (<L N POS POS security N>) ) (<T NP\\\\NP 0 2> (<L (NP\\\\NP)/NP POS POS of (NP\\\\NP)/NP>) (<T NP 0 2> (<T NP 0 1> (<T N 1 2> (<L N/N POS POS international N/N>) (<L N POS POS VIPs N>) ) ) (<T NP\\\\NP 0 2> (<L (NP\\\\NP)/(S[dcl]\\\\NP) POS POS who (NP\\\\NP)/(S[dcl]\\\\NP)>) (<T S[dcl]\\\\NP 0 2> (<T S[dcl]\\\\NP 0 2> (<T S[dcl]\\\\NP 0 2> (<L (S[dcl]\\\\NP)/NP POS POS visited (S[dcl]\\\\NP)/NP>) (<T NP 0 1> (<T N 1 2> (<L N/N POS POS Western N/N>) (<L N POS POS Australia N>) ) ) ) (<T (S\\\\NP)\\\\(S\\\\NP) 0 2> (<L ((S\\\\NP)\\\\(S\\\\NP))/NP POS POS during ((S\\\\NP)\\\\(S\\\\NP))/NP>) (<T NP[nb] 0 2> (<T NP[nb]/N 1 2> (<T NP[nb] 0 2> (<T NP[nb]/N 1 2> (<T NP 0 1> (<L N POS POS Bond N>) ) (<L (NP[nb]/N)\\\\NP POS POS 's (NP[nb]/N)\\\\NP>) ) (<L N POS POS America N>) ) (<L (NP[nb]/N)\\\\NP POS POS 's (NP[nb]/N)\\\\NP>) ) (<T N 1 2> (<L N/N POS POS Cup N/N>) (<L N POS POS defence N>) ) ) ) ) (<T (S\\\\NP)\\\\(S\\\\NP) 0 2> (<T (S\\\\NP)\\\\(S\\\\NP) 1 2> (<T NP 0 1> (<T N 1 2> (<L N/N POS POS three N/N>) (<L N POS POS years N>) ) ) (<L ((S\\\\NP)\\\\(S\\\\NP))\\\\NP POS POS ago ((S\\\\NP)\\\\(S\\\\NP))\\\\NP>) ) (<L . POS POS . .>) ) ) ) ) ) ) ) ) ) ) ) ) ) ) ) ) \\n\"\n"
     ]
    },
    {
     "name": "stdout",
     "output_type": "stream",
     "text": [
      " This  year  Michael  had  received  a  special  briefing  from  the  Bond  Corporation  to  check  the  source  of  leaks  of  some  highly  confidential  commercial  information .\n",
      "b'ID=1\\n(<T S[dcl] 1 2> (<T NP[nb] 0 2> (<L NP[nb]/N POS POS This NP[nb]/N>) (<T N 1 2> (<L N/N POS POS year N/N>) (<L N POS POS Michael N>) ) ) (<T S[dcl]\\\\NP 0 2> (<L (S[dcl]\\\\NP)/(S[pt]\\\\NP) POS POS had (S[dcl]\\\\NP)/(S[pt]\\\\NP)>) (<T S[pt]\\\\NP 0 2> (<L (S[pt]\\\\NP)/NP POS POS received (S[pt]\\\\NP)/NP>) (<T NP[nb] 0 2> (<T NP[nb] 0 2> (<L NP[nb]/N POS POS a NP[nb]/N>) (<T N 1 2> (<L N/N POS POS special N/N>) (<L N POS POS briefing N>) ) ) (<T NP\\\\NP 0 2> (<L (NP\\\\NP)/NP POS POS from (NP\\\\NP)/NP>) (<T NP[nb] 0 2> (<L NP[nb]/N POS POS the NP[nb]/N>) (<T N 1 2> (<L N/N POS POS Bond N/N>) (<T N 0 2> (<L N POS POS Corporation N>) (<T N\\\\N 0 1> (<T S[to]\\\\NP 0 2> (<L (S[to]\\\\NP)/(S[b]\\\\NP) POS POS to (S[to]\\\\NP)/(S[b]\\\\NP)>) (<T S[b]\\\\NP 0 2> (<L (S[b]\\\\NP)/NP POS POS check (S[b]\\\\NP)/NP>) (<T NP[nb] 0 2> (<T NP[nb] 0 2> (<L NP[nb]/N POS POS the NP[nb]/N>) (<L N POS POS source N>) ) (<T NP\\\\NP 0 2> (<L (NP\\\\NP)/NP POS POS of (NP\\\\NP)/NP>) (<T NP 0 2> (<T NP 0 1> (<L N POS POS leaks N>) ) (<T NP\\\\NP 0 2> (<L (NP\\\\NP)/NP POS POS of (NP\\\\NP)/NP>) (<T NP[nb] 0 2> (<T NP[nb] 0 2> (<L NP[nb]/N POS POS some NP[nb]/N>) (<T N 1 2> (<T N/N 1 2> (<L (N/N)/(N/N) POS POS highly (N/N)/(N/N)>) (<L N/N POS POS confidential N/N>) ) (<T N 1 2> (<L N/N POS POS commercial N/N>) (<L N POS POS information N>) ) ) ) (<L . POS POS . .>) ) ) ) ) ) ) ) ) ) ) ) ) ) ) ) ) \\n'\n",
      " There  were  suggestions  that  Bond  Corporation  executives  had  been  under  regular  surveillance  and  that  there  had  been  interference  with  telephone  communications ,  Mr  Lucas  said .\n",
      "b'ID=1\\n(<T S[dcl] 1 2> (<L NP[thr] POS POS There NP[thr]>) (<T S[dcl]\\\\NP[thr] 0 2> (<L (S[dcl]\\\\NP[thr])/NP POS POS were (S[dcl]\\\\NP[thr])/NP>) (<T NP 0 1> (<T N 0 2> (<L N/S[em] POS POS suggestions N/S[em]>) (<T S[em] 0 2> (<T S[em] 0 2> (<L S[em]/S[dcl] POS POS that S[em]/S[dcl]>) (<T S[dcl] 1 2> (<T NP 0 1> (<T N 1 2> (<L N/N POS POS Bond N/N>) (<T N 1 2> (<L N/N POS POS Corporation N/N>) (<L N POS POS executives N>) ) ) ) (<T S[dcl]\\\\NP 0 2> (<L (S[dcl]\\\\NP)/(S[pt]\\\\NP) POS POS had (S[dcl]\\\\NP)/(S[pt]\\\\NP)>) (<T S[pt]\\\\NP 0 2> (<L (S[pt]\\\\NP)/PP POS POS been (S[pt]\\\\NP)/PP>) (<T PP 0 2> (<L PP/NP POS POS under PP/NP>) (<T NP 0 1> (<T N 1 2> (<L N/N POS POS regular N/N>) (<L N POS POS surveillance N>) ) ) ) ) ) ) ) (<T S[em]\\\\S[em] 1 2> (<L conj POS POS and conj>) (<T S[em] 0 2> (<L S[em]/S[dcl] POS POS that S[em]/S[dcl]>) (<T S[dcl] 0 2> (<T S[dcl] 1 2> (<L NP[thr] POS POS there NP[thr]>) (<T S[dcl]\\\\NP[thr] 0 2> (<L (S[dcl]\\\\NP[thr])/(S[pt]\\\\NP) POS POS had (S[dcl]\\\\NP[thr])/(S[pt]\\\\NP)>) (<T S[pt]\\\\NP 0 2> (<L (S[pt]\\\\NP)/NP POS POS been (S[pt]\\\\NP)/NP>) (<T NP 0 2> (<T NP 0 1> (<L N POS POS interference N>) ) (<T NP\\\\NP 0 2> (<L (NP\\\\NP)/NP POS POS with (NP\\\\NP)/NP>) (<T NP 0 2> (<T NP 0 1> (<T N 1 2> (<L N/N POS POS telephone N/N>) (<L N POS POS communications N>) ) ) (<L , POS POS , ,>) ) ) ) ) ) ) (<T S[dcl]\\\\S[dcl] 1 2> (<T NP 0 1> (<T N 1 2> (<L N/N POS POS Mr N/N>) (<L N POS POS Lucas N>) ) ) (<T (S[dcl]\\\\S[dcl])\\\\NP 0 2> (<L (S[dcl]\\\\S[dcl])\\\\NP POS POS said (S[dcl]\\\\S[dcl])\\\\NP>) (<L . POS POS . .>) ) ) ) ) ) ) ) ) ) ) \\n'\n",
      " Mr  Michael  had  been  asked  to  arrange  electronic  sweeps  of  all  office  communication  equipment  in  the  interests  of  personal  security .\n",
      "b'ID=1\\n(<T S[dcl] 1 2> (<T NP 0 1> (<T N 1 2> (<L N/N POS POS Mr N/N>) (<L N POS POS Michael N>) ) ) (<T S[dcl]\\\\NP 0 2> (<L (S[dcl]\\\\NP)/(S[pt]\\\\NP) POS POS had (S[dcl]\\\\NP)/(S[pt]\\\\NP)>) (<T S[pt]\\\\NP 0 2> (<L (S[pt]\\\\NP)/(S[pss]\\\\NP) POS POS been (S[pt]\\\\NP)/(S[pss]\\\\NP)>) (<T S[pss]\\\\NP 0 2> (<L (S[pss]\\\\NP)/(S[to]\\\\NP) POS POS asked (S[pss]\\\\NP)/(S[to]\\\\NP)>) (<T S[to]\\\\NP 0 2> (<L (S[to]\\\\NP)/(S[b]\\\\NP) POS POS to (S[to]\\\\NP)/(S[b]\\\\NP)>) (<T S[b]\\\\NP 0 2> (<L (S[b]\\\\NP)/NP POS POS arrange (S[b]\\\\NP)/NP>) (<T NP 0 2> (<T NP 0 1> (<T N 1 2> (<L N/N POS POS electronic N/N>) (<L N POS POS sweeps N>) ) ) (<T NP\\\\NP 0 2> (<L (NP\\\\NP)/NP POS POS of (NP\\\\NP)/NP>) (<T NP[nb] 0 2> (<T NP[nb] 0 2> (<L NP[nb]/N POS POS all NP[nb]/N>) (<T N 1 2> (<L N/N POS POS office N/N>) (<T N 1 2> (<L N/N POS POS communication N/N>) (<L N POS POS equipment N>) ) ) ) (<T NP\\\\NP 0 2> (<L (NP\\\\NP)/NP POS POS in (NP\\\\NP)/NP>) (<T NP[nb] 0 2> (<T NP[nb] 0 2> (<L NP[nb]/N POS POS the NP[nb]/N>) (<L N POS POS interests N>) ) (<T NP\\\\NP 0 2> (<L (NP\\\\NP)/NP POS POS of (NP\\\\NP)/NP>) (<T NP 0 2> (<T NP 0 1> (<T N 1 2> (<L N/N POS POS personal N/N>) (<L N POS POS security N>) ) ) (<L . POS POS . .>) ) ) ) ) ) ) ) ) ) ) ) ) ) \\n'\n",
      " Earlier  another  Bond  director  Mr  Tony  Oates  said  the  corporation  vigorously  denied  it  had  any  knowledge  of  the  alleged  phone-bugging  operation .\n",
      "b'ID=1\\n(<T S[dcl] 1 2> (<T S/S 0 2> (<L (S/S)/NP POS POS Earlier (S/S)/NP>) (<T NP[nb] 0 2> (<L NP[nb]/N POS POS another NP[nb]/N>) (<T N 1 2> (<L N/N POS POS Bond N/N>) (<L N POS POS director N>) ) ) ) (<T S[dcl] 1 2> (<T NP 0 1> (<T N 1 2> (<L N/N POS POS Mr N/N>) (<T N 1 2> (<L N/N POS POS Tony N/N>) (<L N POS POS Oates N>) ) ) ) (<T S[dcl]\\\\NP 0 2> (<L (S[dcl]\\\\NP)/S[dcl] POS POS said (S[dcl]\\\\NP)/S[dcl]>) (<T S[dcl] 1 2> (<T NP[nb] 0 2> (<L NP[nb]/N POS POS the NP[nb]/N>) (<L N POS POS corporation N>) ) (<T S[dcl]\\\\NP 1 2> (<L (S\\\\NP)/(S\\\\NP) POS POS vigorously (S\\\\NP)/(S\\\\NP)>) (<T S[dcl]\\\\NP 0 2> (<L (S[dcl]\\\\NP)/S[dcl] POS POS denied (S[dcl]\\\\NP)/S[dcl]>) (<T S[dcl] 1 2> (<L NP POS POS it NP>) (<T S[dcl]\\\\NP 0 2> (<L (S[dcl]\\\\NP)/NP POS POS had (S[dcl]\\\\NP)/NP>) (<T NP[nb] 0 2> (<T NP[nb] 0 2> (<L NP[nb]/N POS POS any NP[nb]/N>) (<L N POS POS knowledge N>) ) (<T NP\\\\NP 0 2> (<L (NP\\\\NP)/NP POS POS of (NP\\\\NP)/NP>) (<T NP[nb] 0 2> (<T NP[nb] 0 2> (<L NP[nb]/N POS POS the NP[nb]/N>) (<T N 1 2> (<L N/N POS POS alleged N/N>) (<T N 1 2> (<L N/N POS POS phone-bugging N/N>) (<L N POS POS operation N>) ) ) ) (<L . POS POS . .>) ) ) ) ) ) ) ) ) ) ) ) \\n'\n",
      " The  Australian  Federal  Police  are  saying  little  about  the  affair ,  which  has  become  a  national  scandal ,  but  they  have  admitted  the  discovery  of  illegal  bugs  on  the  phones  of  Mr  Robert  Holmes  a  Court ,  Sydney  stockbroker  Mr  Peter  Burrows  and  a  leading  Australian  financial  journalist ,  Mr  Terry  McCran  of  the  Melbourne  Herald ,  a  trenchant  critic  of  the  Bond  Corporation .\n",
      "b'ID=1\\n(<T S[dcl] 0 2> (<T S[dcl] 1 2> (<T NP[nb] 0 2> (<L NP[nb]/N POS POS The NP[nb]/N>) (<T N 1 2> (<L N/N POS POS Australian N/N>) (<T N 1 2> (<L N/N POS POS Federal N/N>) (<L N POS POS Police N>) ) ) ) (<T S[dcl]\\\\NP 0 2> (<L (S[dcl]\\\\NP)/(S[ng]\\\\NP) POS POS are (S[dcl]\\\\NP)/(S[ng]\\\\NP)>) (<T S[ng]\\\\NP 0 2> (<L (S[ng]\\\\NP)/(S[adj]\\\\NP) POS POS saying (S[ng]\\\\NP)/(S[adj]\\\\NP)>) (<T S[adj]\\\\NP 0 2> (<L (S[adj]\\\\NP)/PP POS POS little (S[adj]\\\\NP)/PP>) (<T PP 0 2> (<L PP/NP POS POS about PP/NP>) (<T NP[nb] 0 2> (<T NP[nb] 0 2> (<T NP[nb] 0 2> (<L NP[nb]/N POS POS the NP[nb]/N>) (<L N POS POS affair N>) ) (<L , POS POS , ,>) ) (<T NP\\\\NP 0 2> (<L (NP\\\\NP)/(S[dcl]\\\\NP) POS POS which (NP\\\\NP)/(S[dcl]\\\\NP)>) (<T S[dcl]\\\\NP 0 2> (<L (S[dcl]\\\\NP)/(S[pt]\\\\NP) POS POS has (S[dcl]\\\\NP)/(S[pt]\\\\NP)>) (<T S[pt]\\\\NP 0 2> (<L (S[pt]\\\\NP)/NP POS POS become (S[pt]\\\\NP)/NP>) (<T NP[nb] 0 2> (<T NP[nb] 0 2> (<L NP[nb]/N POS POS a NP[nb]/N>) (<T N 1 2> (<L N/N POS POS national N/N>) (<L N POS POS scandal N>) ) ) (<L , POS POS , ,>) ) ) ) ) ) ) ) ) ) ) (<T S[dcl]\\\\S[dcl] 1 2> (<L conj POS POS but conj>) (<T S[dcl] 1 2> (<L NP POS POS they NP>) (<T S[dcl]\\\\NP 0 2> (<L (S[dcl]\\\\NP)/(S[pt]\\\\NP) POS POS have (S[dcl]\\\\NP)/(S[pt]\\\\NP)>) (<T S[pt]\\\\NP 0 2> (<L (S[pt]\\\\NP)/NP POS POS admitted (S[pt]\\\\NP)/NP>) (<T NP[nb] 0 2> (<T NP[nb] 0 2> (<L NP[nb]/N POS POS the NP[nb]/N>) (<L N POS POS discovery N>) ) (<T NP\\\\NP 0 2> (<L (NP\\\\NP)/NP POS POS of (NP\\\\NP)/NP>) (<T NP 0 2> (<T NP 0 1> (<T N 1 2> (<L N/N POS POS illegal N/N>) (<L N POS POS bugs N>) ) ) (<T NP\\\\NP 0 2> (<L (NP\\\\NP)/NP POS POS on (NP\\\\NP)/NP>) (<T NP[nb] 0 2> (<T NP[nb] 0 2> (<L NP[nb]/N POS POS the NP[nb]/N>) (<L N POS POS phones N>) ) (<T NP\\\\NP 0 2> (<L (NP\\\\NP)/NP POS POS of (NP\\\\NP)/NP>) (<T NP 0 2> (<T NP 0 2> (<T NP 0 1> (<T N 1 2> (<L N/N POS POS Mr N/N>) (<T N 1 2> (<L N/N POS POS Robert N/N>) (<L N POS POS Holmes N>) ) ) ) (<T NP\\\\NP 0 2> (<L (NP\\\\NP)/N POS POS a (NP\\\\NP)/N>) (<L N POS POS Court N>) ) ) (<T NP\\\\NP 1 2> (<L , POS POS , ,>) (<T NP 0 2> (<T NP 0 1> (<T N 1 2> (<L N/N POS POS Sydney N/N>) (<T N 1 2> (<L N/N POS POS stockbroker N/N>) (<T N 1 2> (<L N/N POS POS Mr N/N>) (<T N 1 2> (<L N/N POS POS Peter N/N>) (<L N POS POS Burrows N>) ) ) ) ) ) (<T NP[nb]\\\\NP[nb] 1 2> (<L conj POS POS and conj>) (<T NP[nb] 0 2> (<T NP[nb] 0 2> (<L NP[nb]/N POS POS a NP[nb]/N>) (<T N 1 2> (<L N/N POS POS leading N/N>) (<T N 1 2> (<L N/N POS POS Australian N/N>) (<T N 1 2> (<L N/N POS POS financial N/N>) (<L N POS POS journalist N>) ) ) ) ) (<T NP\\\\NP 1 2> (<L , POS POS , ,>) (<T NP 0 2> (<T NP 0 1> (<T N 1 2> (<L N/N POS POS Mr N/N>) (<T N 1 2> (<L N/N POS POS Terry N/N>) (<L N POS POS McCran N>) ) ) ) (<T NP\\\\NP 0 2> (<L (NP\\\\NP)/NP POS POS of (NP\\\\NP)/NP>) (<T NP[nb] 0 2> (<T NP[nb] 0 2> (<L NP[nb]/N POS POS the NP[nb]/N>) (<T N 1 2> (<L N/N POS POS Melbourne N/N>) (<L N POS POS Herald N>) ) ) (<T NP[nb]\\\\NP[nb] 1 2> (<L , POS POS , ,>) (<T NP[nb] 0 2> (<T NP[nb] 0 2> (<L NP[nb]/N POS POS a NP[nb]/N>) (<T N 1 2> (<L N/N POS POS trenchant N/N>) (<L N POS POS critic N>) ) ) (<T NP\\\\NP 0 2> (<L (NP\\\\NP)/NP POS POS of (NP\\\\NP)/NP>) (<T NP[nb] 0 2> (<T NP[nb] 0 2> (<L NP[nb]/N POS POS the NP[nb]/N>) (<T N 1 2> (<L N/N POS POS Bond N/N>) (<L N POS POS Corporation N>) ) ) (<L . POS POS . .>) ) ) ) ) ) ) ) ) ) ) ) ) ) ) ) ) ) ) ) ) ) ) ) ) \\n'\n"
     ]
    },
    {
     "name": "stdout",
     "output_type": "stream",
     "text": [
      " Junk  bond  setback .\n",
      "b'ID=1\\n(<T NP 0 2> (<T NP 0 1> (<T N 1 2> (<L N/N POS POS Junk N/N>) (<T N 1 2> (<L N/N POS POS bond N/N>) (<L N POS POS setback N>) ) ) ) (<L . POS POS . .>) ) \\n'\n",
      " The  US  junk  bond  market  suffered  its  latest  setback  yesterday  after  buyout  firm  Kohlberg  Kravis  Roberts  said  one  of  its  companies  was  on  the  verge  of  bankruptcy ,  writes  Mary  Brasier  in  New  York .\n",
      "b'ID=1\\n(<T S[dcl] 1 2> (<T NP[nb] 0 2> (<L NP[nb]/N POS POS The NP[nb]/N>) (<T N 1 2> (<L N/N POS POS US N/N>) (<T N 1 2> (<L N/N POS POS junk N/N>) (<T N 1 2> (<L N/N POS POS bond N/N>) (<L N POS POS market N>) ) ) ) ) (<T S[dcl]\\\\NP 0 2> (<T S[dcl]\\\\NP 0 2> (<T S[dcl]\\\\NP 0 2> (<L (S[dcl]\\\\NP)/NP POS POS suffered (S[dcl]\\\\NP)/NP>) (<T NP[nb] 0 2> (<L NP[nb]/N POS POS its NP[nb]/N>) (<T N 1 2> (<L N/N POS POS latest N/N>) (<L N POS POS setback N>) ) ) ) (<L (S\\\\NP)\\\\(S\\\\NP) POS POS yesterday (S\\\\NP)\\\\(S\\\\NP)>) ) (<T (S\\\\NP)\\\\(S\\\\NP) 0 2> (<L ((S\\\\NP)\\\\(S\\\\NP))/S[dcl] POS POS after ((S\\\\NP)\\\\(S\\\\NP))/S[dcl]>) (<T S[dcl] 1 2> (<T NP 0 1> (<T N 1 2> (<L N/N POS POS buyout N/N>) (<T N 1 2> (<L N/N POS POS firm N/N>) (<T N 1 2> (<L N/N POS POS Kohlberg N/N>) (<T N 1 2> (<L N/N POS POS Kravis N/N>) (<L N POS POS Roberts N>) ) ) ) ) ) (<T S[dcl]\\\\NP 0 2> (<L (S[dcl]\\\\NP)/S[dcl] POS POS said (S[dcl]\\\\NP)/S[dcl]>) (<T S[dcl] 0 2> (<T S[dcl] 1 2> (<T NP 0 2> (<T NP 0 1> (<L N POS POS one N>) ) (<T NP\\\\NP 0 2> (<L (NP\\\\NP)/NP POS POS of (NP\\\\NP)/NP>) (<T NP[nb] 0 2> (<L NP[nb]/N POS POS its NP[nb]/N>) (<L N POS POS companies N>) ) ) ) (<T S[dcl]\\\\NP 0 2> (<L (S[dcl]\\\\NP)/PP POS POS was (S[dcl]\\\\NP)/PP>) (<T (S[X]\\\\NP)\\\\((S[X]\\\\NP)/PP) 0 1> (<T PP 0 2> (<L PP/NP POS POS on PP/NP>) (<T NP[nb] 0 2> (<T NP[nb] 0 2> (<L NP[nb]/N POS POS the NP[nb]/N>) (<L N POS POS verge N>) ) (<T NP\\\\NP 0 2> (<L (NP\\\\NP)/NP POS POS of (NP\\\\NP)/NP>) (<T NP 0 2> (<T NP 0 1> (<L N POS POS bankruptcy N>) ) (<L , POS POS , ,>) ) ) ) ) ) ) ) (<T S[dcl]\\\\S[dcl] 0 2> (<L (S[dcl]\\\\S[dcl])/NP POS POS writes (S[dcl]\\\\S[dcl])/NP>) (<T NP 0 2> (<T NP 0 1> (<T N 1 2> (<L N/N POS POS Mary N/N>) (<L N POS POS Brasier N>) ) ) (<T NP\\\\NP 0 2> (<L (NP\\\\NP)/NP POS POS in (NP\\\\NP)/NP>) (<T NP 0 2> (<T NP 0 1> (<T N 1 2> (<L N/N POS POS New N/N>) (<L N POS POS York N>) ) ) (<L . POS POS . .>) ) ) ) ) ) ) ) ) ) ) \\n'\n",
      " KKR  said  that  if  Hillsborough  could  not  refinance  the  debt  it  took  on  when  it  launched  a  $2.4billion  leveraged  takeover  in  the  building  industry ,  it  might  have  to  file  for  Chapter  11  bankruptcy .\n",
      "b'ID=1\\n(<T S[dcl] 1 2> (<T NP 0 1> (<L N POS POS KKR N>) ) (<T S[dcl]\\\\NP 0 2> (<L (S[dcl]\\\\NP)/S[em] POS POS said (S[dcl]\\\\NP)/S[em]>) (<T S[em] 0 2> (<L S[em]/S[dcl] POS POS that S[em]/S[dcl]>) (<T S[dcl] 1 2> (<T S/S 0 2> (<L (S/S)/S[dcl] POS POS if (S/S)/S[dcl]>) (<T S[dcl] 1 2> (<T NP 0 1> (<L N POS POS Hillsborough N>) ) (<T S[dcl]\\\\NP 0 2> (<T (S[dcl]\\\\NP)/(S[b]\\\\NP) 0 2> (<L (S[dcl]\\\\NP)/(S[b]\\\\NP) POS POS could (S[dcl]\\\\NP)/(S[b]\\\\NP)>) (<L (S\\\\NP)\\\\(S\\\\NP) POS POS not (S\\\\NP)\\\\(S\\\\NP)>) ) (<T S[b]\\\\NP 0 2> (<L (S[b]\\\\NP)/NP POS POS refinance (S[b]\\\\NP)/NP>) (<T NP[nb] 0 2> (<L NP[nb]/N POS POS the NP[nb]/N>) (<L N POS POS debt N>) ) ) ) ) ) (<T S[dcl] 1 2> (<L NP POS POS it NP>) (<T S[dcl]\\\\NP 0 2> (<T S[dcl]\\\\NP 0 2> (<L S[dcl]\\\\NP POS POS took S[dcl]\\\\NP>) (<L (S\\\\NP)\\\\(S\\\\NP) POS POS on (S\\\\NP)\\\\(S\\\\NP)>) ) (<T (S\\\\NP)\\\\(S\\\\NP) 0 2> (<L ((S\\\\NP)\\\\(S\\\\NP))/S[dcl] POS POS when ((S\\\\NP)\\\\(S\\\\NP))/S[dcl]>) (<T S[dcl] 0 2> (<T S[dcl] 1 2> (<L NP POS POS it NP>) (<T S[dcl]\\\\NP 0 2> (<L (S[dcl]\\\\NP)/NP POS POS launched (S[dcl]\\\\NP)/NP>) (<T NP[nb] 0 2> (<T NP[nb] 0 2> (<L NP[nb]/N POS POS a NP[nb]/N>) (<T N 1 2> (<L N/N POS POS $2.4billion N/N>) (<T N 1 2> (<L N/N POS POS leveraged N/N>) (<L N POS POS takeover N>) ) ) ) (<T NP\\\\NP 0 2> (<L (NP\\\\NP)/NP POS POS in (NP\\\\NP)/NP>) (<T NP[nb] 0 2> (<L NP[nb]/N POS POS the NP[nb]/N>) (<T N 1 2> (<L N/N POS POS building N/N>) (<L N POS POS industry N>) ) ) ) ) ) ) (<T S[dcl]\\\\S[dcl] 1 2> (<L , POS POS , ,>) (<T S[dcl] 1 2> (<L NP POS POS it NP>) (<T S[dcl]\\\\NP 0 2> (<L (S[dcl]\\\\NP)/(S[b]\\\\NP) POS POS might (S[dcl]\\\\NP)/(S[b]\\\\NP)>) (<T S[b]\\\\NP 0 2> (<L (S[b]\\\\NP)/(S[to]\\\\NP) POS POS have (S[b]\\\\NP)/(S[to]\\\\NP)>) (<T S[to]\\\\NP 0 2> (<L (S[to]\\\\NP)/(S[b]\\\\NP) POS POS to (S[to]\\\\NP)/(S[b]\\\\NP)>) (<T S[b]\\\\NP 0 2> (<L (S[b]\\\\NP)/PP POS POS file (S[b]\\\\NP)/PP>) (<T PP 0 2> (<L PP/NP POS POS for PP/NP>) (<T NP 0 2> (<T NP 0 1> (<T N 1 2> (<L N/N POS POS Chapter N/N>) (<T N 1 2> (<L N/N POS POS 11 N/N>) (<L N POS POS bankruptcy N>) ) ) ) (<L . POS POS . .>) ) ) ) ) ) ) ) ) ) ) ) ) ) ) ) ) \\n'\n",
      " Seasonal  relief .\n",
      "b'ID=1\\n(<T NP 0 2> (<T NP 0 1> (<T N 1 2> (<L N/N POS POS Seasonal N/N>) (<L N POS POS relief N>) ) ) (<L . POS POS . .>) ) \\n'\n",
      " The  US  Federal  Reserve  prompted  a  fall  in  market  interest  rates  to  8  ¼  per  cent  yesterday  when  it  injected  $2billion  into  the  banking  system .\n",
      "b'ID=1\\n(<T S[dcl] 1 2> (<T NP[nb] 0 2> (<L NP[nb]/N POS POS The NP[nb]/N>) (<T N 1 2> (<L N/N POS POS US N/N>) (<T N 1 2> (<L N/N POS POS Federal N/N>) (<L N POS POS Reserve N>) ) ) ) (<T S[dcl]\\\\NP 0 2> (<T S[dcl]\\\\NP 0 2> (<T S[dcl]\\\\NP 0 2> (<L (S[dcl]\\\\NP)/NP POS POS prompted (S[dcl]\\\\NP)/NP>) (<T NP[nb] 0 2> (<T NP[nb] 0 2> (<L NP[nb]/N POS POS a NP[nb]/N>) (<L N POS POS fall N>) ) (<T NP\\\\NP 0 2> (<L (NP\\\\NP)/NP POS POS in (NP\\\\NP)/NP>) (<T NP 0 2> (<T NP 0 1> (<T N 1 2> (<L N/N POS POS market N/N>) (<T N 1 2> (<L N/N POS POS interest N/N>) (<L N POS POS rates N>) ) ) ) (<T NP\\\\NP 0 2> (<L (NP\\\\NP)/NP POS POS to (NP\\\\NP)/NP>) (<T NP 0 2> (<T NP 0 1> (<T N 1 2> (<L N/N POS POS 8 N/N>) (<L N POS POS \\xc2\\xbc N>) ) ) (<T NP\\\\NP 0 2> (<L (NP\\\\NP)/NP POS POS per (NP\\\\NP)/NP>) (<T NP 0 1> (<L N POS POS cent N>) ) ) ) ) ) ) ) ) (<L (S\\\\NP)\\\\(S\\\\NP) POS POS yesterday (S\\\\NP)\\\\(S\\\\NP)>) ) (<T (S\\\\NP)\\\\(S\\\\NP) 0 2> (<L ((S\\\\NP)\\\\(S\\\\NP))/S[dcl] POS POS when ((S\\\\NP)\\\\(S\\\\NP))/S[dcl]>) (<T S[dcl] 1 2> (<L NP POS POS it NP>) (<T S[dcl]\\\\NP 0 2> (<T S[dcl]\\\\NP 0 2> (<L S[dcl]\\\\NP POS POS injected S[dcl]\\\\NP>) (<L (S\\\\NP)\\\\(S\\\\NP) POS POS $2billion (S\\\\NP)\\\\(S\\\\NP)>) ) (<T (S\\\\NP)\\\\(S\\\\NP) 0 2> (<L ((S\\\\NP)\\\\(S\\\\NP))/NP POS POS into ((S\\\\NP)\\\\(S\\\\NP))/NP>) (<T NP[nb] 0 2> (<T NP[nb] 0 2> (<L NP[nb]/N POS POS the NP[nb]/N>) (<T N 1 2> (<L N/N POS POS banking N/N>) (<L N POS POS system N>) ) ) (<L . POS POS . .>) ) ) ) ) ) ) ) \\n'\n",
      " It  was  seen  as  a  temporary  move  to  improve  liquidity  over  Christmas ,  rather  than  an  indication  of  a  new  trend  in  interest  rates .\n",
      "b'ID=1\\n(<T S[dcl] 1 2> (<L NP POS POS It NP>) (<T S[dcl]\\\\NP 0 2> (<L (S[dcl]\\\\NP)/(S[pss]\\\\NP) POS POS was (S[dcl]\\\\NP)/(S[pss]\\\\NP)>) (<T S[pss]\\\\NP 0 2> (<L (S[pss]\\\\NP)/PP POS POS seen (S[pss]\\\\NP)/PP>) (<T (S[X]\\\\NP)\\\\((S[X]\\\\NP)/PP) 0 1> (<T PP 0 2> (<L PP/NP POS POS as PP/NP>) (<T NP[nb] 0 2> (<L NP[nb]/N POS POS a NP[nb]/N>) (<T N 0 2> (<T N 1 2> (<L N/N POS POS temporary N/N>) (<L N POS POS move N>) ) (<T N\\\\N 0 1> (<T S[to]\\\\NP 0 2> (<L (S[to]\\\\NP)/(S[b]\\\\NP) POS POS to (S[to]\\\\NP)/(S[b]\\\\NP)>) (<T S[b]\\\\NP 0 2> (<T S[b]\\\\NP 0 2> (<L (S[b]\\\\NP)/NP POS POS improve (S[b]\\\\NP)/NP>) (<T (S[X]\\\\NP)\\\\((S[X]\\\\NP)/NP) 0 1> (<T NP 0 1> (<L N POS POS liquidity N>) ) ) ) (<T (S\\\\NP)\\\\(S\\\\NP) 0 2> (<L ((S\\\\NP)\\\\(S\\\\NP))/NP POS POS over ((S\\\\NP)\\\\(S\\\\NP))/NP>) (<T NP 0 2> (<T NP 0 2> (<T NP 0 1> (<L N POS POS Christmas N>) ) (<L , POS POS , ,>) ) (<T NP\\\\NP 1 2> (<L (NP\\\\NP)/(NP\\\\NP) POS POS rather (NP\\\\NP)/(NP\\\\NP)>) (<T NP\\\\NP 0 2> (<L (NP\\\\NP)/NP POS POS than (NP\\\\NP)/NP>) (<T NP[nb] 0 2> (<T NP[nb] 0 2> (<L NP[nb]/N POS POS an NP[nb]/N>) (<L N POS POS indication N>) ) (<T NP\\\\NP 0 2> (<L (NP\\\\NP)/NP POS POS of (NP\\\\NP)/NP>) (<T NP[nb] 0 2> (<T NP[nb] 0 2> (<L NP[nb]/N POS POS a NP[nb]/N>) (<T N 1 2> (<L N/N POS POS new N/N>) (<L N POS POS trend N>) ) ) (<T NP\\\\NP 0 2> (<L (NP\\\\NP)/NP POS POS in (NP\\\\NP)/NP>) (<T NP 0 2> (<T NP 0 1> (<T N 1 2> (<L N/N POS POS interest N/N>) (<L N POS POS rates N>) ) ) (<L . POS POS . .>) ) ) ) ) ) ) ) ) ) ) ) ) ) ) ) ) ) ) ) \\n'\n",
      " Bumper  pay  rises .\n",
      "b'ID=1\\n(<T NP 0 2> (<T NP 0 1> (<T N 1 2> (<L N/N POS POS Bumper N/N>) (<T N 1 2> (<L N/N POS POS pay N/N>) (<L N POS POS rises N>) ) ) ) (<L . POS POS . .>) ) \\n'\n"
     ]
    },
    {
     "name": "stdout",
     "output_type": "stream",
     "text": [
      " More  large  pay  rises  for  directors  have  been  revealed .\n",
      "b'ID=1\\n(<T S[dcl] 1 2> (<T NP 0 2> (<T NP 0 1> (<T N 1 2> (<T N/N 1 2> (<L (N/N)/(N/N) POS POS More (N/N)/(N/N)>) (<L N/N POS POS large N/N>) ) (<T N 1 2> (<L N/N POS POS pay N/N>) (<L N POS POS rises N>) ) ) ) (<T NP\\\\NP 0 2> (<L (NP\\\\NP)/NP POS POS for (NP\\\\NP)/NP>) (<T NP 0 1> (<L N POS POS directors N>) ) ) ) (<T S[dcl]\\\\NP 0 2> (<L (S[dcl]\\\\NP)/(S[pt]\\\\NP) POS POS have (S[dcl]\\\\NP)/(S[pt]\\\\NP)>) (<T S[pt]\\\\NP 0 2> (<L (S[pt]\\\\NP)/(S[pss]\\\\NP) POS POS been (S[pt]\\\\NP)/(S[pss]\\\\NP)>) (<T S[pss]\\\\NP 0 2> (<L S[pss]\\\\NP POS POS revealed S[pss]\\\\NP>) (<L . POS POS . .>) ) ) ) ) \\n'\n",
      " Trafalgar  House  raised  chief  executive  Eric  Parker 's  salary  by  62.7  per  cent  to  £480,000  and  chairman  Sir  Nigel  Broackes '  by  37.6  per  cent  to  £300,000 .\n",
      "b\"ID=1\\n(<T S[dcl] 1 2> (<T NP 0 1> (<T N 1 2> (<L N/N POS POS Trafalgar N/N>) (<L N POS POS House N>) ) ) (<T S[dcl]\\\\NP 0 2> (<T S[dcl]\\\\NP 0 2> (<T S[dcl]\\\\NP 0 2> (<T S[dcl]\\\\NP 0 2> (<T S[dcl]\\\\NP 0 2> (<L (S[dcl]\\\\NP)/NP POS POS raised (S[dcl]\\\\NP)/NP>) (<T NP[nb] 0 2> (<T NP[nb]/N 1 2> (<T NP 0 1> (<T N 1 2> (<L N/N POS POS chief N/N>) (<T N 1 2> (<L N/N POS POS executive N/N>) (<T N 1 2> (<L N/N POS POS Eric N/N>) (<L N POS POS Parker N>) ) ) ) ) (<L (NP[nb]/N)\\\\NP POS POS 's (NP[nb]/N)\\\\NP>) ) (<L N POS POS salary N>) ) ) (<T (S\\\\NP)\\\\(S\\\\NP) 0 2> (<L ((S\\\\NP)\\\\(S\\\\NP))/NP POS POS by ((S\\\\NP)\\\\(S\\\\NP))/NP>) (<T NP 0 2> (<T NP 0 1> (<L N POS POS 62.7 N>) ) (<T NP\\\\NP 0 2> (<L (NP\\\\NP)/NP POS POS per (NP\\\\NP)/NP>) (<T NP 0 1> (<L N POS POS cent N>) ) ) ) ) ) (<T (S\\\\NP)\\\\(S\\\\NP) 0 2> (<L ((S\\\\NP)\\\\(S\\\\NP))/NP POS POS to ((S\\\\NP)\\\\(S\\\\NP))/NP>) (<T NP 0 2> (<T NP 0 1> (<L N POS POS \\xc2\\xa3480,000 N>) ) (<T NP\\\\NP 1 2> (<L conj POS POS and conj>) (<T NP 0 2> (<T NP 0 1> (<T N 1 2> (<L N/N POS POS chairman N/N>) (<T N 1 2> (<L N/N POS POS Sir N/N>) (<T N 1 2> (<L N/N POS POS Nigel N/N>) (<L N POS POS Broackes N>) ) ) ) ) (<L NP\\\\NP POS POS ' NP\\\\NP>) ) ) ) ) ) (<T (S\\\\NP)\\\\(S\\\\NP) 0 2> (<L ((S\\\\NP)\\\\(S\\\\NP))/NP POS POS by ((S\\\\NP)\\\\(S\\\\NP))/NP>) (<T NP 0 2> (<T NP 0 1> (<L N POS POS 37.6 N>) ) (<T NP\\\\NP 0 2> (<L (NP\\\\NP)/NP POS POS per (NP\\\\NP)/NP>) (<T NP 0 1> (<L N POS POS cent N>) ) ) ) ) ) (<T (S\\\\NP)\\\\(S\\\\NP) 0 2> (<L ((S\\\\NP)\\\\(S\\\\NP))/NP POS POS to ((S\\\\NP)\\\\(S\\\\NP))/NP>) (<T NP 0 2> (<T NP 0 1> (<L N POS POS \\xc2\\xa3300,000 N>) ) (<L . POS POS . .>) ) ) ) ) \\n\"\n",
      " Kwik  Save ,  the  supermarket  group ,  gave  retiring  chairman  Ian  Howe  a  43  per  cent  rise  to  £187,000 .\n",
      "b'ID=1\\n(<T S[dcl] 1 2> (<T NP 0 2> (<T NP 0 1> (<T N 1 2> (<L N/N POS POS Kwik N/N>) (<L N POS POS Save N>) ) ) (<T NP[nb]\\\\NP[nb] 0 2> (<T NP[nb]\\\\NP[nb] 1 2> (<L , POS POS , ,>) (<T NP[nb] 0 2> (<L NP[nb]/N POS POS the NP[nb]/N>) (<T N 1 2> (<L N/N POS POS supermarket N/N>) (<L N POS POS group N>) ) ) ) (<L , POS POS , ,>) ) ) (<T S[dcl]\\\\NP 0 2> (<T (S[dcl]\\\\NP)/NP 0 2> (<L ((S[dcl]\\\\NP)/NP)/NP POS POS gave ((S[dcl]\\\\NP)/NP)/NP>) (<T NP 0 1> (<T N 1 2> (<L N/N POS POS retiring N/N>) (<T N 1 2> (<L N/N POS POS chairman N/N>) (<T N 1 2> (<L N/N POS POS Ian N/N>) (<L N POS POS Howe N>) ) ) ) ) ) (<T NP[nb] 0 2> (<T NP[nb] 0 2> (<L NP[nb]/N POS POS a NP[nb]/N>) (<T N 1 2> (<T N/N 1 2> (<L (N/N)/(N/N) POS POS 43 (N/N)/(N/N)>) (<T N/N 1 2> (<L (N/N)/(N/N) POS POS per (N/N)/(N/N)>) (<L N/N POS POS cent N/N>) ) ) (<L N POS POS rise N>) ) ) (<T NP\\\\NP 0 2> (<L (NP\\\\NP)/NP POS POS to (NP\\\\NP)/NP>) (<T NP 0 2> (<T NP 0 1> (<L N POS POS \\xc2\\xa3187,000 N>) ) (<L . POS POS . .>) ) ) ) ) ) \\n'\n",
      " Magnet  restructure .\n",
      "b'ID=1\\n(<T NP 0 2> (<T NP 0 1> (<T N 1 2> (<L N/N POS POS Magnet N/N>) (<L N POS POS restructure N>) ) ) (<L . POS POS . .>) ) \\n'\n",
      " Magnet ,  the  troubled  kitchen  and  DIY  retailer ,  is  expected  to  announce  a  financial  restructuring  today  including  extended  interest  and  capital  repayments  on  £562million  of  debt  incurred  by  the  £630million  management  buy-out .\n",
      "b'ID=1\\n(<T S[dcl] 1 2> (<T NP 0 2> (<T NP 0 1> (<L N POS POS Magnet N>) ) (<T NP[nb]\\\\NP[nb] 1 2> (<L , POS POS , ,>) (<T NP[nb] 0 2> (<T NP[nb] 0 2> (<L NP[nb]/N POS POS the NP[nb]/N>) (<T N 1 2> (<L N/N POS POS troubled N/N>) (<L N POS POS kitchen N>) ) ) (<T NP\\\\NP 1 2> (<L conj POS POS and conj>) (<T NP 0 2> (<T NP 0 1> (<T N 1 2> (<L N/N POS POS DIY N/N>) (<L N POS POS retailer N>) ) ) (<L , POS POS , ,>) ) ) ) ) ) (<T S[dcl]\\\\NP 0 2> (<L (S[dcl]\\\\NP)/(S[pss]\\\\NP) POS POS is (S[dcl]\\\\NP)/(S[pss]\\\\NP)>) (<T S[pss]\\\\NP 0 2> (<L (S[pss]\\\\NP)/(S[to]\\\\NP) POS POS expected (S[pss]\\\\NP)/(S[to]\\\\NP)>) (<T S[to]\\\\NP 0 2> (<L (S[to]\\\\NP)/(S[b]\\\\NP) POS POS to (S[to]\\\\NP)/(S[b]\\\\NP)>) (<T S[b]\\\\NP 0 2> (<T S[b]\\\\NP 0 2> (<T S[b]\\\\NP 0 2> (<T S[b]\\\\NP 0 2> (<L (S[b]\\\\NP)/NP POS POS announce (S[b]\\\\NP)/NP>) (<T NP[nb] 0 2> (<L NP[nb]/N POS POS a NP[nb]/N>) (<T N 1 2> (<L N/N POS POS financial N/N>) (<L N POS POS restructuring N>) ) ) ) (<L (S\\\\NP)\\\\(S\\\\NP) POS POS today (S\\\\NP)\\\\(S\\\\NP)>) ) (<T (S\\\\NP)\\\\(S\\\\NP) 0 2> (<L ((S\\\\NP)\\\\(S\\\\NP))/NP POS POS including ((S\\\\NP)\\\\(S\\\\NP))/NP>) (<T NP 0 2> (<T NP 0 1> (<T N 1 2> (<L N/N POS POS extended N/N>) (<L N POS POS interest N>) ) ) (<T NP\\\\NP 1 2> (<L conj POS POS and conj>) (<T NP 0 1> (<T N 1 2> (<L N/N POS POS capital N/N>) (<L N POS POS repayments N>) ) ) ) ) ) ) (<T (S\\\\NP)\\\\(S\\\\NP) 0 2> (<L ((S\\\\NP)\\\\(S\\\\NP))/NP POS POS on ((S\\\\NP)\\\\(S\\\\NP))/NP>) (<T NP 0 2> (<T NP 0 1> (<L N POS POS \\xc2\\xa3562million N>) ) (<T NP\\\\NP 0 2> (<L (NP\\\\NP)/NP POS POS of (NP\\\\NP)/NP>) (<T NP 0 2> (<T NP 0 1> (<L N POS POS debt N>) ) (<T NP\\\\NP 0 1> (<T S[pss]\\\\NP 0 2> (<L S[pss]\\\\NP POS POS incurred S[pss]\\\\NP>) (<T (S\\\\NP)\\\\(S\\\\NP) 0 2> (<L ((S\\\\NP)\\\\(S\\\\NP))/NP POS POS by ((S\\\\NP)\\\\(S\\\\NP))/NP>) (<T NP[nb] 0 2> (<T NP[nb] 0 2> (<L NP[nb]/N POS POS the NP[nb]/N>) (<T N 1 2> (<L N/N POS POS \\xc2\\xa3630million N/N>) (<T N 1 2> (<L N/N POS POS management N/N>) (<L N POS POS buy-out N>) ) ) ) (<L . POS POS . .>) ) ) ) ) ) ) ) ) ) ) ) ) ) \\n'\n",
      " Charge  dismissed .\n",
      "b'ID=1\\n(<T NP 0 2> (<T NP 0 1> (<L N POS POS Charge N>) ) (<T NP\\\\NP 0 2> (<T NP\\\\NP 0 1> (<L S[pss]\\\\NP POS POS dismissed S[pss]\\\\NP>) ) (<L . POS POS . .>) ) ) \\n'\n",
      " The  Stock  Exchange  has  dismissed  a  disciplinary  charge  against  market  makers  Smith  New  Court  which  arose  when  it  carried  out  an  £80million  ‘ programme  trade ’  for  fund  managers  Ivory&Sime  a  year  ago .\n",
      "b'ID=1\\n(<T S[dcl] 1 2> (<T NP[nb] 0 2> (<L NP[nb]/N POS POS The NP[nb]/N>) (<T N 1 2> (<L N/N POS POS Stock N/N>) (<L N POS POS Exchange N>) ) ) (<T S[dcl]\\\\NP 0 2> (<L (S[dcl]\\\\NP)/(S[pt]\\\\NP) POS POS has (S[dcl]\\\\NP)/(S[pt]\\\\NP)>) (<T S[pt]\\\\NP 0 2> (<L (S[pt]\\\\NP)/NP POS POS dismissed (S[pt]\\\\NP)/NP>) (<T NP[nb] 0 2> (<T NP[nb] 0 2> (<L NP[nb]/N POS POS a NP[nb]/N>) (<T N 1 2> (<L N/N POS POS disciplinary N/N>) (<L N POS POS charge N>) ) ) (<T NP\\\\NP 0 2> (<L (NP\\\\NP)/NP POS POS against (NP\\\\NP)/NP>) (<T NP 0 2> (<T NP 0 1> (<T N 1 2> (<L N/N POS POS market N/N>) (<T N 1 2> (<L N/N POS POS makers N/N>) (<T N 1 2> (<L N/N POS POS Smith N/N>) (<T N 1 2> (<L N/N POS POS New N/N>) (<L N POS POS Court N>) ) ) ) ) ) (<T NP\\\\NP 0 2> (<L (NP\\\\NP)/(S[dcl]\\\\NP) POS POS which (NP\\\\NP)/(S[dcl]\\\\NP)>) (<T S[dcl]\\\\NP 0 2> (<L S[dcl]\\\\NP POS POS arose S[dcl]\\\\NP>) (<T (S\\\\NP)\\\\(S\\\\NP) 0 2> (<L ((S\\\\NP)\\\\(S\\\\NP))/S[dcl] POS POS when ((S\\\\NP)\\\\(S\\\\NP))/S[dcl]>) (<T S[dcl] 1 2> (<L NP POS POS it NP>) (<T S[dcl]\\\\NP 0 2> (<T (S[dcl]\\\\NP)/NP 0 2> (<L (S[dcl]\\\\NP)/NP POS POS carried (S[dcl]\\\\NP)/NP>) (<L (S\\\\NP)\\\\(S\\\\NP) POS POS out (S\\\\NP)\\\\(S\\\\NP)>) ) (<T NP[nb] 0 2> (<T NP[nb] 0 2> (<T NP[nb] 0 2> (<L NP[nb]/N POS POS an NP[nb]/N>) (<T N 1 2> (<L N/N POS POS \\xc2\\xa380million N/N>) (<T N 1 2> (<T N/N 1 2> (<L LRB POS POS \\xe2\\x80\\x98 LRB>) (<L N/N POS POS programme N/N>) ) (<L N POS POS trade N>) ) ) ) (<L RRB POS POS \\xe2\\x80\\x99 RRB>) ) (<T NP\\\\NP 0 2> (<L (NP\\\\NP)/NP POS POS for (NP\\\\NP)/NP>) (<T NP 0 2> (<T NP 0 1> (<T N 1 2> (<L N/N POS POS fund N/N>) (<T N 1 2> (<L N/N POS POS managers N/N>) (<L N POS POS Ivory&Sime N>) ) ) ) (<T NP\\\\NP 0 2> (<T NP\\\\NP 1 2> (<T NP[nb] 0 2> (<L NP[nb]/N POS POS a NP[nb]/N>) (<L N POS POS year N>) ) (<L (NP\\\\NP)\\\\NP POS POS ago (NP\\\\NP)\\\\NP>) ) (<L . POS POS . .>) ) ) ) ) ) ) ) ) ) ) ) ) ) ) ) \\n'\n"
     ]
    },
    {
     "name": "stdout",
     "output_type": "stream",
     "text": [
      " Unit  trust  boost .\n",
      "b'ID=1\\n(<T NP 0 2> (<T NP 0 1> (<T N 1 2> (<L N/N POS POS Unit N/N>) (<T N 1 2> (<L N/N POS POS trust N/N>) (<L N POS POS boost N>) ) ) ) (<L . POS POS . .>) ) \\n'\n",
      " Net  new  investment  in  unit  trusts  last  month  was  £339.4million ,  some  30  per  cent  higher  than  the  monthly  average  so  far  this  year .\n",
      "b'ID=1\\n(<T S[dcl] 1 2> (<T NP 0 2> (<T NP 0 1> (<T N 1 2> (<L N/N POS POS Net N/N>) (<T N 1 2> (<L N/N POS POS new N/N>) (<L N POS POS investment N>) ) ) ) (<T NP\\\\NP 0 2> (<L (NP\\\\NP)/NP POS POS in (NP\\\\NP)/NP>) (<T NP 0 2> (<T NP 0 1> (<T N 1 2> (<L N/N POS POS unit N/N>) (<L N POS POS trusts N>) ) ) (<T NP\\\\NP 1 2> (<L (NP\\\\NP)/(NP\\\\NP) POS POS last (NP\\\\NP)/(NP\\\\NP)>) (<L NP\\\\NP POS POS month NP\\\\NP>) ) ) ) ) (<T S[dcl]\\\\NP 0 2> (<T S[dcl]\\\\NP 0 2> (<L (S[dcl]\\\\NP)/NP POS POS was (S[dcl]\\\\NP)/NP>) (<T NP 0 2> (<T NP 0 1> (<L N POS POS \\xc2\\xa3339.4million N>) ) (<T NP[nb]\\\\NP[nb] 1 2> (<L , POS POS , ,>) (<T NP[nb] 0 2> (<T NP[nb] 0 2> (<L NP[nb]/N POS POS some NP[nb]/N>) (<L N POS POS 30 N>) ) (<T NP\\\\NP 0 2> (<L (NP\\\\NP)/NP POS POS per (NP\\\\NP)/NP>) (<T NP 0 2> (<T NP 0 1> (<L N POS POS cent N>) ) (<T NP\\\\NP 0 1> (<T S[adj]\\\\NP 0 2> (<L S[adj]\\\\NP POS POS higher S[adj]\\\\NP>) (<T (S[adj]\\\\NP)\\\\(S[adj]\\\\NP) 0 2> (<L ((S[adj]\\\\NP)\\\\(S[adj]\\\\NP))/NP POS POS than ((S[adj]\\\\NP)\\\\(S[adj]\\\\NP))/NP>) (<T NP[nb] 0 2> (<L NP[nb]/N POS POS the NP[nb]/N>) (<T N 1 2> (<L N/N POS POS monthly N/N>) (<L N POS POS average N>) ) ) ) ) ) ) ) ) ) ) ) (<T (S\\\\NP)\\\\(S\\\\NP) 1 2> (<T ((S\\\\NP)\\\\(S\\\\NP))/((S\\\\NP)\\\\(S\\\\NP)) 1 2> (<L (((S\\\\NP)\\\\(S\\\\NP))/((S\\\\NP)\\\\(S\\\\NP)))/(((S\\\\NP)\\\\(S\\\\NP))/((S\\\\NP)\\\\(S\\\\NP))) POS POS so (((S\\\\NP)\\\\(S\\\\NP))/((S\\\\NP)\\\\(S\\\\NP)))/(((S\\\\NP)\\\\(S\\\\NP))/((S\\\\NP)\\\\(S\\\\NP)))>) (<L ((S\\\\NP)\\\\(S\\\\NP))/((S\\\\NP)\\\\(S\\\\NP)) POS POS far ((S\\\\NP)\\\\(S\\\\NP))/((S\\\\NP)\\\\(S\\\\NP))>) ) (<T (S\\\\NP)\\\\(S\\\\NP) 0 2> (<T (S\\\\NP)\\\\(S\\\\NP) 0 2> (<L ((S\\\\NP)\\\\(S\\\\NP))/N POS POS this ((S\\\\NP)\\\\(S\\\\NP))/N>) (<L N POS POS year N>) ) (<L . POS POS . .>) ) ) ) ) \\n'\n",
      " Gross  sales  were  the  third  highest  at  £960.2million ,  while  repurchases  fell  by  £300  million  to  £560.8million .\n",
      "b'ID=1\\n(<T S[dcl] 1 2> (<T NP 0 1> (<T N 1 2> (<L N/N POS POS Gross N/N>) (<L N POS POS sales N>) ) ) (<T S[dcl]\\\\NP 0 2> (<T S[dcl]\\\\NP 0 2> (<L (S[dcl]\\\\NP)/NP POS POS were (S[dcl]\\\\NP)/NP>) (<T NP[nb] 0 2> (<T NP[nb] 0 2> (<L NP[nb]/N POS POS the NP[nb]/N>) (<T N 1 2> (<L N/N POS POS third N/N>) (<L N POS POS highest N>) ) ) (<T NP\\\\NP 0 2> (<L (NP\\\\NP)/NP POS POS at (NP\\\\NP)/NP>) (<T NP 0 2> (<T NP 0 1> (<L N POS POS \\xc2\\xa3960.2million N>) ) (<L , POS POS , ,>) ) ) ) ) (<T (S\\\\NP)\\\\(S\\\\NP) 0 2> (<L ((S\\\\NP)\\\\(S\\\\NP))/S[dcl] POS POS while ((S\\\\NP)\\\\(S\\\\NP))/S[dcl]>) (<T S[dcl] 1 2> (<T NP 0 1> (<L N POS POS repurchases N>) ) (<T S[dcl]\\\\NP 0 2> (<T S[dcl]\\\\NP 0 2> (<L S[dcl]\\\\NP POS POS fell S[dcl]\\\\NP>) (<T (S\\\\NP)\\\\(S\\\\NP) 0 2> (<L ((S\\\\NP)\\\\(S\\\\NP))/NP POS POS by ((S\\\\NP)\\\\(S\\\\NP))/NP>) (<T NP 0 1> (<T N 1 2> (<L N/N POS POS \\xc2\\xa3300 N/N>) (<L N POS POS million N>) ) ) ) ) (<T (S\\\\NP)\\\\(S\\\\NP) 0 2> (<L ((S\\\\NP)\\\\(S\\\\NP))/NP POS POS to ((S\\\\NP)\\\\(S\\\\NP))/NP>) (<T NP 0 2> (<T NP 0 1> (<L N POS POS \\xc2\\xa3560.8million N>) ) (<L . POS POS . .>) ) ) ) ) ) ) ) \\n'\n",
      " Wall  St  lower .\n",
      "b'ID=1\\n(<T NP 0 2> (<T NP 0 1> (<T N 1 2> (<L N/N POS POS Wall N/N>) (<L N POS POS St N>) ) ) (<T NP\\\\NP 0 2> (<T NP\\\\NP 0 1> (<L S[adj]\\\\NP POS POS lower S[adj]\\\\NP>) ) (<L . POS POS . .>) ) ) \\n'\n",
      " The  Dow  Jones  stock  index  closed  down  7.68  at  2,687.93 .\n",
      "b'ID=1\\n(<T S[dcl] 1 2> (<T NP[nb] 0 2> (<L NP[nb]/N POS POS The NP[nb]/N>) (<T N 1 2> (<L N/N POS POS Dow N/N>) (<T N 1 2> (<L N/N POS POS Jones N/N>) (<T N 1 2> (<L N/N POS POS stock N/N>) (<L N POS POS index N>) ) ) ) ) (<T S[dcl]\\\\NP 0 2> (<T S[dcl]\\\\NP 0 2> (<L (S[dcl]\\\\NP)/(S[adj]\\\\NP) POS POS closed (S[dcl]\\\\NP)/(S[adj]\\\\NP)>) (<T S[adj]\\\\NP 0 2> (<L (S[adj]\\\\NP)/NP POS POS down (S[adj]\\\\NP)/NP>) (<T NP 0 1> (<L N POS POS 7.68 N>) ) ) ) (<T (S\\\\NP)\\\\(S\\\\NP) 0 2> (<L ((S\\\\NP)\\\\(S\\\\NP))/NP POS POS at ((S\\\\NP)\\\\(S\\\\NP))/NP>) (<T NP 0 2> (<T NP 0 1> (<L N POS POS 2,687.93 N>) ) (<L . POS POS . .>) ) ) ) ) \\n'\n"
     ]
    },
    {
     "ename": "KeyboardInterrupt",
     "evalue": "",
     "output_type": "error",
     "traceback": [
      "\u001b[0;31m---------------------------------------------------------------------------\u001b[0m",
      "\u001b[0;31mKeyboardInterrupt\u001b[0m                         Traceback (most recent call last)",
      "\u001b[0;32m<ipython-input-18-2c7cd017b6b5>\u001b[0m in \u001b[0;36m<module>\u001b[0;34m()\u001b[0m\n\u001b[1;32m     10\u001b[0m                 \u001b[0;32mif\u001b[0m \u001b[0;34m(\u001b[0m\u001b[0mnested_element\u001b[0m\u001b[0;34m.\u001b[0m\u001b[0mtag\u001b[0m \u001b[0;34m==\u001b[0m \u001b[0;34m'w'\u001b[0m \u001b[0;32mor\u001b[0m \u001b[0mnested_element\u001b[0m\u001b[0;34m.\u001b[0m\u001b[0mtag\u001b[0m \u001b[0;34m==\u001b[0m \u001b[0;34m'c'\u001b[0m\u001b[0;34m)\u001b[0m \u001b[0;32mand\u001b[0m \u001b[0mnested_element\u001b[0m\u001b[0;34m.\u001b[0m\u001b[0mtext\u001b[0m\u001b[0;34m:\u001b[0m\u001b[0;34m\u001b[0m\u001b[0m\n\u001b[1;32m     11\u001b[0m                     \u001b[0msentence\u001b[0m \u001b[0;34m+=\u001b[0m \u001b[0;34m' '\u001b[0m \u001b[0;34m+\u001b[0m \u001b[0mnested_element\u001b[0m\u001b[0;34m.\u001b[0m\u001b[0mtext\u001b[0m\u001b[0;34m\u001b[0m\u001b[0m\n\u001b[0;32m---> 12\u001b[0;31m             \u001b[0mparse_out\u001b[0m \u001b[0;34m=\u001b[0m \u001b[0mp\u001b[0m\u001b[0;34m.\u001b[0m\u001b[0mcommunicate\u001b[0m\u001b[0;34m(\u001b[0m\u001b[0minput\u001b[0m\u001b[0;34m=\u001b[0m\u001b[0msentence\u001b[0m\u001b[0;34m.\u001b[0m\u001b[0mencode\u001b[0m\u001b[0;34m(\u001b[0m\u001b[0;34m)\u001b[0m\u001b[0;34m)\u001b[0m\u001b[0;34m[\u001b[0m\u001b[0;36m0\u001b[0m\u001b[0;34m]\u001b[0m\u001b[0;34m\u001b[0m\u001b[0m\n\u001b[0m\u001b[1;32m     13\u001b[0m             \u001b[0mp\u001b[0m\u001b[0;34m.\u001b[0m\u001b[0mterminate\u001b[0m\u001b[0;34m(\u001b[0m\u001b[0;34m)\u001b[0m\u001b[0;34m\u001b[0m\u001b[0m\n\u001b[1;32m     14\u001b[0m             \u001b[0mprint\u001b[0m\u001b[0;34m(\u001b[0m\u001b[0msentence\u001b[0m\u001b[0;34m)\u001b[0m\u001b[0;34m\u001b[0m\u001b[0m\n",
      "\u001b[0;32m/usr/lib64/python3.5/subprocess.py\u001b[0m in \u001b[0;36mcommunicate\u001b[0;34m(self, input, timeout)\u001b[0m\n\u001b[1;32m   1070\u001b[0m \u001b[0;34m\u001b[0m\u001b[0m\n\u001b[1;32m   1071\u001b[0m             \u001b[0;32mtry\u001b[0m\u001b[0;34m:\u001b[0m\u001b[0;34m\u001b[0m\u001b[0m\n\u001b[0;32m-> 1072\u001b[0;31m                 \u001b[0mstdout\u001b[0m\u001b[0;34m,\u001b[0m \u001b[0mstderr\u001b[0m \u001b[0;34m=\u001b[0m \u001b[0mself\u001b[0m\u001b[0;34m.\u001b[0m\u001b[0m_communicate\u001b[0m\u001b[0;34m(\u001b[0m\u001b[0minput\u001b[0m\u001b[0;34m,\u001b[0m \u001b[0mendtime\u001b[0m\u001b[0;34m,\u001b[0m \u001b[0mtimeout\u001b[0m\u001b[0;34m)\u001b[0m\u001b[0;34m\u001b[0m\u001b[0m\n\u001b[0m\u001b[1;32m   1073\u001b[0m             \u001b[0;32mfinally\u001b[0m\u001b[0;34m:\u001b[0m\u001b[0;34m\u001b[0m\u001b[0m\n\u001b[1;32m   1074\u001b[0m                 \u001b[0mself\u001b[0m\u001b[0;34m.\u001b[0m\u001b[0m_communication_started\u001b[0m \u001b[0;34m=\u001b[0m \u001b[0;32mTrue\u001b[0m\u001b[0;34m\u001b[0m\u001b[0m\n",
      "\u001b[0;32m/usr/lib64/python3.5/subprocess.py\u001b[0m in \u001b[0;36m_communicate\u001b[0;34m(self, input, endtime, orig_timeout)\u001b[0m\n\u001b[1;32m   1713\u001b[0m                         \u001b[0;32mraise\u001b[0m \u001b[0mTimeoutExpired\u001b[0m\u001b[0;34m(\u001b[0m\u001b[0mself\u001b[0m\u001b[0;34m.\u001b[0m\u001b[0margs\u001b[0m\u001b[0;34m,\u001b[0m \u001b[0morig_timeout\u001b[0m\u001b[0;34m)\u001b[0m\u001b[0;34m\u001b[0m\u001b[0m\n\u001b[1;32m   1714\u001b[0m \u001b[0;34m\u001b[0m\u001b[0m\n\u001b[0;32m-> 1715\u001b[0;31m                     \u001b[0mready\u001b[0m \u001b[0;34m=\u001b[0m \u001b[0mselector\u001b[0m\u001b[0;34m.\u001b[0m\u001b[0mselect\u001b[0m\u001b[0;34m(\u001b[0m\u001b[0mtimeout\u001b[0m\u001b[0;34m)\u001b[0m\u001b[0;34m\u001b[0m\u001b[0m\n\u001b[0m\u001b[1;32m   1716\u001b[0m                     \u001b[0mself\u001b[0m\u001b[0;34m.\u001b[0m\u001b[0m_check_timeout\u001b[0m\u001b[0;34m(\u001b[0m\u001b[0mendtime\u001b[0m\u001b[0;34m,\u001b[0m \u001b[0morig_timeout\u001b[0m\u001b[0;34m)\u001b[0m\u001b[0;34m\u001b[0m\u001b[0m\n\u001b[1;32m   1717\u001b[0m \u001b[0;34m\u001b[0m\u001b[0m\n",
      "\u001b[0;32m/usr/lib64/python3.5/selectors.py\u001b[0m in \u001b[0;36mselect\u001b[0;34m(self, timeout)\u001b[0m\n\u001b[1;32m    374\u001b[0m             \u001b[0mready\u001b[0m \u001b[0;34m=\u001b[0m \u001b[0;34m[\u001b[0m\u001b[0;34m]\u001b[0m\u001b[0;34m\u001b[0m\u001b[0m\n\u001b[1;32m    375\u001b[0m             \u001b[0;32mtry\u001b[0m\u001b[0;34m:\u001b[0m\u001b[0;34m\u001b[0m\u001b[0m\n\u001b[0;32m--> 376\u001b[0;31m                 \u001b[0mfd_event_list\u001b[0m \u001b[0;34m=\u001b[0m \u001b[0mself\u001b[0m\u001b[0;34m.\u001b[0m\u001b[0m_poll\u001b[0m\u001b[0;34m.\u001b[0m\u001b[0mpoll\u001b[0m\u001b[0;34m(\u001b[0m\u001b[0mtimeout\u001b[0m\u001b[0;34m)\u001b[0m\u001b[0;34m\u001b[0m\u001b[0m\n\u001b[0m\u001b[1;32m    377\u001b[0m             \u001b[0;32mexcept\u001b[0m \u001b[0mInterruptedError\u001b[0m\u001b[0;34m:\u001b[0m\u001b[0;34m\u001b[0m\u001b[0m\n\u001b[1;32m    378\u001b[0m                 \u001b[0;32mreturn\u001b[0m \u001b[0mready\u001b[0m\u001b[0;34m\u001b[0m\u001b[0m\n",
      "\u001b[0;31mKeyboardInterrupt\u001b[0m: "
     ]
    }
   ],
   "source": [
    "trees = []\n",
    "p = Popen(['java', '-jar', 'easyccg-0.2/easyccg.jar', '--model', 'easyccg-0.2/model'], stdout=PIPE, stdin=PIPE, stderr=PIPE)\n",
    "\n",
    "for bnc_file in bnc_files_iter():\n",
    "    file_tree = etree.parse(bnc_file)\n",
    "    for element in file_tree.iter():\n",
    "        if element.tag == 's':\n",
    "            sentence = ''\n",
    "            for nested_element in element.iter():\n",
    "                if (nested_element.tag == 'w' or nested_element.tag == 'c') and nested_element.text:\n",
    "                    sentence += ' ' + nested_element.text\n",
    "            parse_out = p.communicate(input=sentence.encode())[0]\n",
    "            p.terminate()\n",
    "            print(sentence)\n",
    "            print(parse_out)\n",
    "            trees.append(parse_out)\n",
    "            p = Popen(['java', '-jar', 'easyccg-0.2/easyccg.jar', '--model', 'easyccg-0.2/model'], stdout=PIPE, stdin=PIPE, stderr=PIPE)\n",
    "    bnc_file.close()\n",
    "    if(len(trees) == 5):\n",
    "        break\n",
    "   \n",
    "print(trees[:5])\n",
    "p.terminate()"
   ]
  },
  {
   "cell_type": "code",
   "execution_count": null,
   "metadata": {
    "collapsed": true
   },
   "outputs": [],
   "source": []
  }
 ],
 "metadata": {
  "kernelspec": {
   "display_name": "Python 3",
   "language": "python",
   "name": "python3"
  },
  "language_info": {
   "codemirror_mode": {
    "name": "ipython",
    "version": 3
   },
   "file_extension": ".py",
   "mimetype": "text/x-python",
   "name": "python",
   "nbconvert_exporter": "python",
   "pygments_lexer": "ipython3",
   "version": "3.5.2"
  }
 },
 "nbformat": 4,
 "nbformat_minor": 2
}
